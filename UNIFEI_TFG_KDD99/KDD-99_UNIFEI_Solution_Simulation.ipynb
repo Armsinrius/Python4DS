{
 "cells": [
  {
   "cell_type": "markdown",
   "metadata": {},
   "source": [
    "# Simulação TFG - UNIFEI\n",
    "Marcelo Rovai 30.11.2020"
   ]
  },
  {
   "cell_type": "markdown",
   "metadata": {
    "ExecuteTime": {
     "end_time": "2020-11-30T19:37:13.077813Z",
     "start_time": "2020-11-30T19:37:13.073978Z"
    }
   },
   "source": [
    "## Libraries"
   ]
  },
  {
   "cell_type": "code",
   "execution_count": 1,
   "metadata": {
    "ExecuteTime": {
     "end_time": "2020-11-30T23:24:51.753894Z",
     "start_time": "2020-11-30T23:24:46.019016Z"
    }
   },
   "outputs": [],
   "source": [
    "import time\n",
    "import requests\n",
    "import numpy as np\n",
    "import pandas as pd\n",
    "import matplotlib.pyplot as plt \n",
    "import tensorflow as tf\n",
    "from sklearn import preprocessing"
   ]
  },
  {
   "cell_type": "code",
   "execution_count": 2,
   "metadata": {
    "ExecuteTime": {
     "end_time": "2020-11-30T23:24:51.769990Z",
     "start_time": "2020-11-30T23:24:51.766664Z"
    }
   },
   "outputs": [],
   "source": [
    "from tensorflow.keras import backend as K\n",
    "from tensorflow.keras import callbacks \n",
    "from tensorflow.keras.models import Sequential\n",
    "from tensorflow.keras.layers import Activation  \n",
    "from tensorflow.keras.layers import Dense, BatchNormalization\n",
    "from tensorflow.keras.optimizers import Adam"
   ]
  },
  {
   "cell_type": "code",
   "execution_count": 3,
   "metadata": {
    "ExecuteTime": {
     "end_time": "2020-11-30T23:24:51.783437Z",
     "start_time": "2020-11-30T23:24:51.780042Z"
    }
   },
   "outputs": [],
   "source": [
    "from tensorflow.keras.metrics import categorical_crossentropy \n",
    "from tensorflow.keras.utils import plot_model\n",
    "from tensorflow.keras import optimizers\n",
    "from tensorflow.keras.utils import to_categorical "
   ]
  },
  {
   "cell_type": "markdown",
   "metadata": {},
   "source": [
    "## Definição de Constantes"
   ]
  },
  {
   "cell_type": "code",
   "execution_count": 4,
   "metadata": {
    "ExecuteTime": {
     "end_time": "2020-11-30T23:24:51.799335Z",
     "start_time": "2020-11-30T23:24:51.796006Z"
    }
   },
   "outputs": [],
   "source": [
    "# Flag para remocao das colunas correlacionadas.\n",
    "CLEAN_DATASET = True\n",
    "\n",
    "# Flag para decisao de qual versao do dataset usar\n",
    "DATASET_COMPLETO = False\n",
    "# Caminho para o dataset\n",
    "# Endereco para download: http://kdd.ics.uci.edu/databases/kddcup99/kddcup99.html\n",
    "# Backup: http://web.archive.org/web/*/http://kdd.ics.uci.edu/databases/kddcup99/kddcup99.html\n",
    "if DATASET_COMPLETO:\n",
    "    DATASET_PATH = \"./data//kddcup.data\" # Treino 98%, Validacao 1%, Teste 1%\n",
    "    # https://stackoverflow.com/a/13613316\n",
    "    TRAIN_PERCENTAGE = 0.98 \n",
    "    VALIDATION_PERCENTAGE = 0.01\n",
    "    TEST_PERCENTAGE = 0.01 \n",
    "else:\n",
    "    DATASET_PATH = \"./data/kddcup.data_10_percent\"\n",
    "    # Treino 80%, Validacao 10%, Teste 10%\n",
    "    TRAIN_PERCENTAGE = 0.8\n",
    "    VALIDATION_PERCENTAGE = 0.1 \n",
    "    TEST_PERCENTAGE = 0.1"
   ]
  },
  {
   "cell_type": "code",
   "execution_count": 5,
   "metadata": {
    "ExecuteTime": {
     "end_time": "2020-11-30T23:24:51.815048Z",
     "start_time": "2020-11-30T23:24:51.809780Z"
    }
   },
   "outputs": [
    {
     "data": {
      "text/plain": [
       "{'divide': 'warn', 'over': 'warn', 'under': 'ignore', 'invalid': 'warn'}"
      ]
     },
     "execution_count": 5,
     "metadata": {},
     "output_type": "execute_result"
    }
   ],
   "source": [
    "## Threshold de correlacao para exclusao das colunas do dataset\n",
    "CORRCOEF_THRESHOLD = 0.5\n",
    "\n",
    "## Ignora os warnings de divisao por NaN\n",
    "np.seterr(divide='ignore', invalid='ignore')"
   ]
  },
  {
   "cell_type": "code",
   "execution_count": 6,
   "metadata": {
    "ExecuteTime": {
     "end_time": "2020-11-30T23:24:52.108011Z",
     "start_time": "2020-11-30T23:24:52.105130Z"
    }
   },
   "outputs": [],
   "source": [
    "EPOCHS = 200 # Quantas vezes os dados serao corridos completamente \n",
    "BATCH_SIZE = 1024 # Quantas linhas do dataset serao lidas por vez\n",
    "SHUFFLE = True # Mistura os dados antes do treino\n",
    "VERBOSE = 1 # 0 - Desativa os logs durante o treino, 1 - Imprime os logs durante o treino\n",
    "LEARNING_RATE = 0.01 # Taxa de aprendizado \n",
    "ACTIVATION_FN = \"relu\" # Funcao de ativacao"
   ]
  },
  {
   "cell_type": "markdown",
   "metadata": {},
   "source": [
    "## Tipos de ataques "
   ]
  },
  {
   "cell_type": "code",
   "execution_count": 7,
   "metadata": {
    "ExecuteTime": {
     "end_time": "2020-11-30T23:24:54.618462Z",
     "start_time": "2020-11-30T23:24:53.837822Z"
    }
   },
   "outputs": [
    {
     "name": "stdout",
     "output_type": "stream",
     "text": [
      "back dos\n",
      "buffer_overflow u2r\n",
      "ftp_write r2l\n",
      "guess_passwd r2l\n",
      "imap r2l\n",
      "ipsweep probe\n",
      "land dos\n",
      "loadmodule u2r\n",
      "multihop r2l\n",
      "neptune dos\n",
      "nmap probe\n",
      "perl u2r\n",
      "phf r2l\n",
      "pod dos\n",
      "portsweep probe\n",
      "rootkit u2r\n",
      "satan probe\n",
      "smurf dos\n",
      "spy r2l\n",
      "teardrop dos\n",
      "warezclient r2l\n",
      "warezmaster r2l\n",
      "\n",
      "\n"
     ]
    }
   ],
   "source": [
    "attack_types = 'https://archive.ics.uci.edu/ml/machine-learning-databases/kddcup99-mld/training_attack_types'\n",
    "types = requests.get(attack_types)\n",
    "print(types.text)"
   ]
  },
  {
   "cell_type": "code",
   "execution_count": 8,
   "metadata": {
    "ExecuteTime": {
     "end_time": "2020-11-30T23:24:54.689931Z",
     "start_time": "2020-11-30T23:24:54.682340Z"
    }
   },
   "outputs": [
    {
     "data": {
      "text/plain": [
       "{'back': 'dos',\n",
       " 'dos': 'warezclient',\n",
       " 'buffer_overflow': 'u2r',\n",
       " 'u2r': 'satan',\n",
       " 'ftp_write': 'r2l',\n",
       " 'r2l': 'warezmaster',\n",
       " 'guess_passwd': 'r2l',\n",
       " 'imap': 'r2l',\n",
       " 'ipsweep': 'probe',\n",
       " 'probe': 'smurf',\n",
       " 'land': 'dos',\n",
       " 'loadmodule': 'u2r',\n",
       " 'multihop': 'r2l',\n",
       " 'neptune': 'dos',\n",
       " 'nmap': 'probe',\n",
       " 'perl': 'u2r',\n",
       " 'phf': 'r2l',\n",
       " 'pod': 'dos',\n",
       " 'portsweep': 'probe',\n",
       " 'rootkit': 'u2r',\n",
       " 'satan': 'probe',\n",
       " 'smurf': 'dos',\n",
       " 'spy': 'r2l',\n",
       " 'teardrop': 'dos',\n",
       " 'warezclient': 'r2l',\n",
       " 'warezmaster': 'r2l',\n",
       " 'normal': 'normal'}"
      ]
     },
     "execution_count": 8,
     "metadata": {},
     "output_type": "execute_result"
    }
   ],
   "source": [
    "# Target types data extraction\n",
    "attack_dict = {}\n",
    "types_text_split = types.text.split()\n",
    "for idx in range(0, len(types_text_split)):\n",
    "    if idx < len(types_text_split) -1:\n",
    "        attack_dict[types_text_split[idx]] = types_text_split[idx+1]\n",
    "attack_dict['normal'] = 'normal'\n",
    "attack_dict"
   ]
  },
  {
   "cell_type": "markdown",
   "metadata": {
    "ExecuteTime": {
     "end_time": "2020-11-30T19:39:35.028888Z",
     "start_time": "2020-11-30T19:39:35.026421Z"
    }
   },
   "source": [
    "## Dataset "
   ]
  },
  {
   "cell_type": "code",
   "execution_count": 9,
   "metadata": {
    "ExecuteTime": {
     "end_time": "2020-11-30T23:24:56.668999Z",
     "start_time": "2020-11-30T23:24:56.542345Z"
    }
   },
   "outputs": [
    {
     "name": "stdout",
     "output_type": "stream",
     "text": [
      "kddcup.data             kddcup.data_10_percent\r\n"
     ]
    }
   ],
   "source": [
    "ls ./data"
   ]
  },
  {
   "cell_type": "code",
   "execution_count": 10,
   "metadata": {
    "ExecuteTime": {
     "end_time": "2020-11-30T23:24:57.411832Z",
     "start_time": "2020-11-30T23:24:57.407076Z"
    }
   },
   "outputs": [],
   "source": [
    "# Nome das colunas do dataset\n",
    "column_names = [\n",
    "    \"duration\",\n",
    "    \"protocol_type\",\n",
    "    \"service\",\n",
    "    \"flag\",\n",
    "    \"src_bytes\",\n",
    "    \"dst_bytes\",\n",
    "    \"land\",\n",
    "    \"wrong_fragment\",\n",
    "    \"urgent\",\n",
    "    \"hot\",\n",
    "    \"num_failed_logins\",\n",
    "    \"logged_in\",\n",
    "    \"num_compromised\",\n",
    "    \"root_shell\",\n",
    "    \"su_attempted\",\n",
    "    \"num_root\",\n",
    "    \"num_file_creations\",\n",
    "    \"num_shells\",\n",
    "    \"num_access_files\",\n",
    "    \"num_outbound_cmds\",\n",
    "    \"is_host_login\",\n",
    "    \"is_guest_login\",\n",
    "    \"count\",\n",
    "    \"srv_count\",\n",
    "    \"serror_rate\",\n",
    "    \"srv_serror_rate\",\n",
    "    \"rerror_rate \",\n",
    "    \"srv_rerror_rate\",\n",
    "    \"same_srv_rate\",\n",
    "    \"diff_srv_rate\",\n",
    "    \"srv_diff_host_rate\",\n",
    "    \"dst_host_count\",\n",
    "    \"dst_host_srv_count\",\n",
    "    \"dst_host_same_srv_rate\",\n",
    "    \"dst_host_diff_srv_rate\",\n",
    "    \"dst_host_same_src_port_rate\",\n",
    "    \"dst_host_srv_diff_host_rate\",\n",
    "    \"dst_host_serror_rate\",\n",
    "    \"dst_host_srv_serror_rate\",\n",
    "    \"dst_host_rerror_rate\",\n",
    "    \"dst_host_srv_rerror_rate\",\n",
    "    \"attack\",\n",
    "]"
   ]
  },
  {
   "cell_type": "code",
   "execution_count": 11,
   "metadata": {
    "ExecuteTime": {
     "end_time": "2020-11-30T23:24:59.428251Z",
     "start_time": "2020-11-30T23:24:58.218113Z"
    }
   },
   "outputs": [
    {
     "data": {
      "text/plain": [
       "(494021, 42)"
      ]
     },
     "execution_count": 11,
     "metadata": {},
     "output_type": "execute_result"
    }
   ],
   "source": [
    "# Leitura do dataset\n",
    "dataset = pd.read_csv(DATASET_PATH, header=None, names=column_names)\n",
    "dataset.shape"
   ]
  },
  {
   "cell_type": "code",
   "execution_count": 12,
   "metadata": {
    "ExecuteTime": {
     "end_time": "2020-11-30T23:24:59.638255Z",
     "start_time": "2020-11-30T23:24:59.611515Z"
    }
   },
   "outputs": [
    {
     "data": {
      "text/html": [
       "<div>\n",
       "<style scoped>\n",
       "    .dataframe tbody tr th:only-of-type {\n",
       "        vertical-align: middle;\n",
       "    }\n",
       "\n",
       "    .dataframe tbody tr th {\n",
       "        vertical-align: top;\n",
       "    }\n",
       "\n",
       "    .dataframe thead th {\n",
       "        text-align: right;\n",
       "    }\n",
       "</style>\n",
       "<table border=\"1\" class=\"dataframe\">\n",
       "  <thead>\n",
       "    <tr style=\"text-align: right;\">\n",
       "      <th></th>\n",
       "      <th>duration</th>\n",
       "      <th>protocol_type</th>\n",
       "      <th>service</th>\n",
       "      <th>flag</th>\n",
       "      <th>src_bytes</th>\n",
       "      <th>dst_bytes</th>\n",
       "      <th>land</th>\n",
       "      <th>wrong_fragment</th>\n",
       "      <th>urgent</th>\n",
       "      <th>hot</th>\n",
       "      <th>...</th>\n",
       "      <th>dst_host_srv_count</th>\n",
       "      <th>dst_host_same_srv_rate</th>\n",
       "      <th>dst_host_diff_srv_rate</th>\n",
       "      <th>dst_host_same_src_port_rate</th>\n",
       "      <th>dst_host_srv_diff_host_rate</th>\n",
       "      <th>dst_host_serror_rate</th>\n",
       "      <th>dst_host_srv_serror_rate</th>\n",
       "      <th>dst_host_rerror_rate</th>\n",
       "      <th>dst_host_srv_rerror_rate</th>\n",
       "      <th>attack</th>\n",
       "    </tr>\n",
       "  </thead>\n",
       "  <tbody>\n",
       "    <tr>\n",
       "      <th>0</th>\n",
       "      <td>0</td>\n",
       "      <td>tcp</td>\n",
       "      <td>http</td>\n",
       "      <td>SF</td>\n",
       "      <td>181</td>\n",
       "      <td>5450</td>\n",
       "      <td>0</td>\n",
       "      <td>0</td>\n",
       "      <td>0</td>\n",
       "      <td>0</td>\n",
       "      <td>...</td>\n",
       "      <td>9</td>\n",
       "      <td>1.0</td>\n",
       "      <td>0.0</td>\n",
       "      <td>0.11</td>\n",
       "      <td>0.0</td>\n",
       "      <td>0.0</td>\n",
       "      <td>0.0</td>\n",
       "      <td>0.0</td>\n",
       "      <td>0.0</td>\n",
       "      <td>normal.</td>\n",
       "    </tr>\n",
       "    <tr>\n",
       "      <th>1</th>\n",
       "      <td>0</td>\n",
       "      <td>tcp</td>\n",
       "      <td>http</td>\n",
       "      <td>SF</td>\n",
       "      <td>239</td>\n",
       "      <td>486</td>\n",
       "      <td>0</td>\n",
       "      <td>0</td>\n",
       "      <td>0</td>\n",
       "      <td>0</td>\n",
       "      <td>...</td>\n",
       "      <td>19</td>\n",
       "      <td>1.0</td>\n",
       "      <td>0.0</td>\n",
       "      <td>0.05</td>\n",
       "      <td>0.0</td>\n",
       "      <td>0.0</td>\n",
       "      <td>0.0</td>\n",
       "      <td>0.0</td>\n",
       "      <td>0.0</td>\n",
       "      <td>normal.</td>\n",
       "    </tr>\n",
       "    <tr>\n",
       "      <th>2</th>\n",
       "      <td>0</td>\n",
       "      <td>tcp</td>\n",
       "      <td>http</td>\n",
       "      <td>SF</td>\n",
       "      <td>235</td>\n",
       "      <td>1337</td>\n",
       "      <td>0</td>\n",
       "      <td>0</td>\n",
       "      <td>0</td>\n",
       "      <td>0</td>\n",
       "      <td>...</td>\n",
       "      <td>29</td>\n",
       "      <td>1.0</td>\n",
       "      <td>0.0</td>\n",
       "      <td>0.03</td>\n",
       "      <td>0.0</td>\n",
       "      <td>0.0</td>\n",
       "      <td>0.0</td>\n",
       "      <td>0.0</td>\n",
       "      <td>0.0</td>\n",
       "      <td>normal.</td>\n",
       "    </tr>\n",
       "    <tr>\n",
       "      <th>3</th>\n",
       "      <td>0</td>\n",
       "      <td>tcp</td>\n",
       "      <td>http</td>\n",
       "      <td>SF</td>\n",
       "      <td>219</td>\n",
       "      <td>1337</td>\n",
       "      <td>0</td>\n",
       "      <td>0</td>\n",
       "      <td>0</td>\n",
       "      <td>0</td>\n",
       "      <td>...</td>\n",
       "      <td>39</td>\n",
       "      <td>1.0</td>\n",
       "      <td>0.0</td>\n",
       "      <td>0.03</td>\n",
       "      <td>0.0</td>\n",
       "      <td>0.0</td>\n",
       "      <td>0.0</td>\n",
       "      <td>0.0</td>\n",
       "      <td>0.0</td>\n",
       "      <td>normal.</td>\n",
       "    </tr>\n",
       "    <tr>\n",
       "      <th>4</th>\n",
       "      <td>0</td>\n",
       "      <td>tcp</td>\n",
       "      <td>http</td>\n",
       "      <td>SF</td>\n",
       "      <td>217</td>\n",
       "      <td>2032</td>\n",
       "      <td>0</td>\n",
       "      <td>0</td>\n",
       "      <td>0</td>\n",
       "      <td>0</td>\n",
       "      <td>...</td>\n",
       "      <td>49</td>\n",
       "      <td>1.0</td>\n",
       "      <td>0.0</td>\n",
       "      <td>0.02</td>\n",
       "      <td>0.0</td>\n",
       "      <td>0.0</td>\n",
       "      <td>0.0</td>\n",
       "      <td>0.0</td>\n",
       "      <td>0.0</td>\n",
       "      <td>normal.</td>\n",
       "    </tr>\n",
       "  </tbody>\n",
       "</table>\n",
       "<p>5 rows × 42 columns</p>\n",
       "</div>"
      ],
      "text/plain": [
       "   duration protocol_type service flag  src_bytes  dst_bytes  land  \\\n",
       "0         0           tcp    http   SF        181       5450     0   \n",
       "1         0           tcp    http   SF        239        486     0   \n",
       "2         0           tcp    http   SF        235       1337     0   \n",
       "3         0           tcp    http   SF        219       1337     0   \n",
       "4         0           tcp    http   SF        217       2032     0   \n",
       "\n",
       "   wrong_fragment  urgent  hot  ...  dst_host_srv_count  \\\n",
       "0               0       0    0  ...                   9   \n",
       "1               0       0    0  ...                  19   \n",
       "2               0       0    0  ...                  29   \n",
       "3               0       0    0  ...                  39   \n",
       "4               0       0    0  ...                  49   \n",
       "\n",
       "   dst_host_same_srv_rate  dst_host_diff_srv_rate  \\\n",
       "0                     1.0                     0.0   \n",
       "1                     1.0                     0.0   \n",
       "2                     1.0                     0.0   \n",
       "3                     1.0                     0.0   \n",
       "4                     1.0                     0.0   \n",
       "\n",
       "   dst_host_same_src_port_rate  dst_host_srv_diff_host_rate  \\\n",
       "0                         0.11                          0.0   \n",
       "1                         0.05                          0.0   \n",
       "2                         0.03                          0.0   \n",
       "3                         0.03                          0.0   \n",
       "4                         0.02                          0.0   \n",
       "\n",
       "   dst_host_serror_rate  dst_host_srv_serror_rate  dst_host_rerror_rate  \\\n",
       "0                   0.0                       0.0                   0.0   \n",
       "1                   0.0                       0.0                   0.0   \n",
       "2                   0.0                       0.0                   0.0   \n",
       "3                   0.0                       0.0                   0.0   \n",
       "4                   0.0                       0.0                   0.0   \n",
       "\n",
       "   dst_host_srv_rerror_rate   attack  \n",
       "0                       0.0  normal.  \n",
       "1                       0.0  normal.  \n",
       "2                       0.0  normal.  \n",
       "3                       0.0  normal.  \n",
       "4                       0.0  normal.  \n",
       "\n",
       "[5 rows x 42 columns]"
      ]
     },
     "execution_count": 12,
     "metadata": {},
     "output_type": "execute_result"
    }
   ],
   "source": [
    "dataset.head()"
   ]
  },
  {
   "cell_type": "code",
   "execution_count": 13,
   "metadata": {
    "ExecuteTime": {
     "end_time": "2020-11-30T23:25:00.090968Z",
     "start_time": "2020-11-30T23:24:59.959506Z"
    }
   },
   "outputs": [
    {
     "name": "stdout",
     "output_type": "stream",
     "text": [
      "<class 'pandas.core.frame.DataFrame'>\n",
      "RangeIndex: 494021 entries, 0 to 494020\n",
      "Data columns (total 42 columns):\n",
      " #   Column                       Non-Null Count   Dtype  \n",
      "---  ------                       --------------   -----  \n",
      " 0   duration                     494021 non-null  int64  \n",
      " 1   protocol_type                494021 non-null  object \n",
      " 2   service                      494021 non-null  object \n",
      " 3   flag                         494021 non-null  object \n",
      " 4   src_bytes                    494021 non-null  int64  \n",
      " 5   dst_bytes                    494021 non-null  int64  \n",
      " 6   land                         494021 non-null  int64  \n",
      " 7   wrong_fragment               494021 non-null  int64  \n",
      " 8   urgent                       494021 non-null  int64  \n",
      " 9   hot                          494021 non-null  int64  \n",
      " 10  num_failed_logins            494021 non-null  int64  \n",
      " 11  logged_in                    494021 non-null  int64  \n",
      " 12  num_compromised              494021 non-null  int64  \n",
      " 13  root_shell                   494021 non-null  int64  \n",
      " 14  su_attempted                 494021 non-null  int64  \n",
      " 15  num_root                     494021 non-null  int64  \n",
      " 16  num_file_creations           494021 non-null  int64  \n",
      " 17  num_shells                   494021 non-null  int64  \n",
      " 18  num_access_files             494021 non-null  int64  \n",
      " 19  num_outbound_cmds            494021 non-null  int64  \n",
      " 20  is_host_login                494021 non-null  int64  \n",
      " 21  is_guest_login               494021 non-null  int64  \n",
      " 22  count                        494021 non-null  int64  \n",
      " 23  srv_count                    494021 non-null  int64  \n",
      " 24  serror_rate                  494021 non-null  float64\n",
      " 25  srv_serror_rate              494021 non-null  float64\n",
      " 26  rerror_rate                  494021 non-null  float64\n",
      " 27  srv_rerror_rate              494021 non-null  float64\n",
      " 28  same_srv_rate                494021 non-null  float64\n",
      " 29  diff_srv_rate                494021 non-null  float64\n",
      " 30  srv_diff_host_rate           494021 non-null  float64\n",
      " 31  dst_host_count               494021 non-null  int64  \n",
      " 32  dst_host_srv_count           494021 non-null  int64  \n",
      " 33  dst_host_same_srv_rate       494021 non-null  float64\n",
      " 34  dst_host_diff_srv_rate       494021 non-null  float64\n",
      " 35  dst_host_same_src_port_rate  494021 non-null  float64\n",
      " 36  dst_host_srv_diff_host_rate  494021 non-null  float64\n",
      " 37  dst_host_serror_rate         494021 non-null  float64\n",
      " 38  dst_host_srv_serror_rate     494021 non-null  float64\n",
      " 39  dst_host_rerror_rate         494021 non-null  float64\n",
      " 40  dst_host_srv_rerror_rate     494021 non-null  float64\n",
      " 41  attack                       494021 non-null  object \n",
      "dtypes: float64(15), int64(23), object(4)\n",
      "memory usage: 158.3+ MB\n"
     ]
    }
   ],
   "source": [
    "dataset.info()"
   ]
  },
  {
   "cell_type": "markdown",
   "metadata": {
    "ExecuteTime": {
     "end_time": "2020-11-30T19:41:16.124370Z",
     "start_time": "2020-11-30T19:41:16.121923Z"
    }
   },
   "source": [
    "### Definição variável target"
   ]
  },
  {
   "cell_type": "code",
   "execution_count": 14,
   "metadata": {
    "ExecuteTime": {
     "end_time": "2020-11-30T23:25:01.656405Z",
     "start_time": "2020-11-30T23:25:01.603433Z"
    }
   },
   "outputs": [
    {
     "data": {
      "text/plain": [
       "smurf.              280790\n",
       "neptune.            107201\n",
       "normal.              97278\n",
       "back.                 2203\n",
       "satan.                1589\n",
       "ipsweep.              1247\n",
       "portsweep.            1040\n",
       "warezclient.          1020\n",
       "teardrop.              979\n",
       "pod.                   264\n",
       "nmap.                  231\n",
       "guess_passwd.           53\n",
       "buffer_overflow.        30\n",
       "land.                   21\n",
       "warezmaster.            20\n",
       "imap.                   12\n",
       "rootkit.                10\n",
       "loadmodule.              9\n",
       "ftp_write.               8\n",
       "multihop.                7\n",
       "phf.                     4\n",
       "perl.                    3\n",
       "spy.                     2\n",
       "Name: attack, dtype: int64"
      ]
     },
     "execution_count": 14,
     "metadata": {},
     "output_type": "execute_result"
    }
   ],
   "source": [
    "dataset.attack.value_counts()"
   ]
  },
  {
   "cell_type": "code",
   "execution_count": 15,
   "metadata": {
    "ExecuteTime": {
     "end_time": "2020-11-30T23:25:02.461474Z",
     "start_time": "2020-11-30T23:25:02.296414Z"
    }
   },
   "outputs": [
    {
     "data": {
      "text/plain": [
       "dos       391458\n",
       "normal     97278\n",
       "probe       4107\n",
       "r2l         1126\n",
       "u2r           52\n",
       "Name: target_type, dtype: int64"
      ]
     },
     "execution_count": 15,
     "metadata": {},
     "output_type": "execute_result"
    }
   ],
   "source": [
    "# map actual type to another column called 'target_type'\n",
    "dataset['target_type'] = dataset.attack.apply(lambda x : attack_dict[x[0:-1]] )\n",
    "dataset.target_type.value_counts()"
   ]
  },
  {
   "cell_type": "markdown",
   "metadata": {},
   "source": [
    "## Dataset Exploration "
   ]
  },
  {
   "cell_type": "markdown",
   "metadata": {},
   "source": [
    "### Identificando dados numéricos e categóricos "
   ]
  },
  {
   "cell_type": "code",
   "execution_count": 16,
   "metadata": {
    "ExecuteTime": {
     "end_time": "2020-11-30T23:25:04.587253Z",
     "start_time": "2020-11-30T23:25:04.561684Z"
    }
   },
   "outputs": [
    {
     "data": {
      "text/plain": [
       "Index(['duration', 'src_bytes', 'dst_bytes', 'land', 'wrong_fragment',\n",
       "       'urgent', 'hot', 'num_failed_logins', 'logged_in', 'num_compromised',\n",
       "       'root_shell', 'su_attempted', 'num_root', 'num_file_creations',\n",
       "       'num_shells', 'num_access_files', 'num_outbound_cmds', 'is_host_login',\n",
       "       'is_guest_login', 'count', 'srv_count', 'serror_rate',\n",
       "       'srv_serror_rate', 'rerror_rate ', 'srv_rerror_rate', 'same_srv_rate',\n",
       "       'diff_srv_rate', 'srv_diff_host_rate', 'dst_host_count',\n",
       "       'dst_host_srv_count', 'dst_host_same_srv_rate',\n",
       "       'dst_host_diff_srv_rate', 'dst_host_same_src_port_rate',\n",
       "       'dst_host_srv_diff_host_rate', 'dst_host_serror_rate',\n",
       "       'dst_host_srv_serror_rate', 'dst_host_rerror_rate',\n",
       "       'dst_host_srv_rerror_rate'],\n",
       "      dtype='object')"
      ]
     },
     "execution_count": 16,
     "metadata": {},
     "output_type": "execute_result"
    }
   ],
   "source": [
    "numeric_cols = dataset._get_numeric_data().columns\n",
    "numeric_cols"
   ]
  },
  {
   "cell_type": "code",
   "execution_count": 17,
   "metadata": {
    "ExecuteTime": {
     "end_time": "2020-11-30T23:25:05.425283Z",
     "start_time": "2020-11-30T23:25:05.420872Z"
    }
   },
   "outputs": [
    {
     "data": {
      "text/plain": [
       "['service', 'flag', 'attack', 'protocol_type', 'target_type']"
      ]
     },
     "execution_count": 17,
     "metadata": {},
     "output_type": "execute_result"
    }
   ],
   "source": [
    "categorical_cols = list(set(dataset.columns)-set(numeric_cols))\n",
    "categorical_cols"
   ]
  },
  {
   "cell_type": "markdown",
   "metadata": {},
   "source": [
    "### Identificando dados binários (0 e 1)"
   ]
  },
  {
   "cell_type": "code",
   "execution_count": 18,
   "metadata": {
    "ExecuteTime": {
     "end_time": "2020-11-30T23:25:06.940851Z",
     "start_time": "2020-11-30T23:25:06.935419Z"
    }
   },
   "outputs": [],
   "source": [
    "def identify_binary_cols(data):\n",
    "    binary_cols = []\n",
    "    for col in numeric_cols:\n",
    "        if len(data[col].unique()) <= 2:\n",
    "            result = []\n",
    "            s = data[col].value_counts()\n",
    "            t = float(len(data[col]))\n",
    "            for v in s.index:\n",
    "                result.append(\"{}({}%)\".format(v,round(100*(s[v]/t),1)))\n",
    "            print(\"{} - [{}]\".format(col, \" , \".join(result)))\n",
    "            binary_cols.append(col)\n",
    "    return binary_cols"
   ]
  },
  {
   "cell_type": "code",
   "execution_count": 19,
   "metadata": {
    "ExecuteTime": {
     "end_time": "2020-11-30T23:25:07.879910Z",
     "start_time": "2020-11-30T23:25:07.738650Z"
    }
   },
   "outputs": [
    {
     "name": "stdout",
     "output_type": "stream",
     "text": [
      "land - [0(100.0%) , 1(0.0%)]\n",
      "logged_in - [0(85.2%) , 1(14.8%)]\n",
      "root_shell - [0(100.0%) , 1(0.0%)]\n",
      "num_outbound_cmds - [0(100.0%)]\n",
      "is_host_login - [0(100.0%)]\n",
      "is_guest_login - [0(99.9%) , 1(0.1%)]\n"
     ]
    }
   ],
   "source": [
    "binary_cols = identify_binary_cols(dataset)"
   ]
  },
  {
   "cell_type": "code",
   "execution_count": 20,
   "metadata": {
    "ExecuteTime": {
     "end_time": "2020-11-30T23:25:08.570252Z",
     "start_time": "2020-11-30T23:25:08.560665Z"
    }
   },
   "outputs": [
    {
     "data": {
      "text/plain": [
       "0    494021\n",
       "Name: is_host_login, dtype: int64"
      ]
     },
     "execution_count": 20,
     "metadata": {},
     "output_type": "execute_result"
    }
   ],
   "source": [
    "dataset.is_host_login.value_counts()"
   ]
  },
  {
   "cell_type": "code",
   "execution_count": 21,
   "metadata": {
    "ExecuteTime": {
     "end_time": "2020-11-30T23:25:09.368766Z",
     "start_time": "2020-11-30T23:25:09.358019Z"
    }
   },
   "outputs": [
    {
     "data": {
      "text/plain": [
       "0    494021\n",
       "Name: num_outbound_cmds, dtype: int64"
      ]
     },
     "execution_count": 21,
     "metadata": {},
     "output_type": "execute_result"
    }
   ],
   "source": [
    "dataset.num_outbound_cmds.value_counts()"
   ]
  },
  {
   "cell_type": "markdown",
   "metadata": {
    "ExecuteTime": {
     "end_time": "2020-11-30T20:51:47.750340Z",
     "start_time": "2020-11-30T20:51:47.615729Z"
    }
   },
   "source": [
    "### Deletar colunas que não possuem variaçoes"
   ]
  },
  {
   "cell_type": "code",
   "execution_count": 22,
   "metadata": {
    "ExecuteTime": {
     "end_time": "2020-11-30T23:25:10.904548Z",
     "start_time": "2020-11-30T23:25:10.804495Z"
    }
   },
   "outputs": [],
   "source": [
    "del dataset['is_host_login']\n",
    "del dataset['num_outbound_cmds']"
   ]
  },
  {
   "cell_type": "code",
   "execution_count": 23,
   "metadata": {
    "ExecuteTime": {
     "end_time": "2020-11-30T23:25:11.529621Z",
     "start_time": "2020-11-30T23:25:11.525558Z"
    }
   },
   "outputs": [
    {
     "data": {
      "text/plain": [
       "['land', 'logged_in', 'root_shell', 'is_guest_login']"
      ]
     },
     "execution_count": 23,
     "metadata": {},
     "output_type": "execute_result"
    }
   ],
   "source": [
    "binary_cols.remove('is_host_login')\n",
    "binary_cols.remove('num_outbound_cmds')\n",
    "binary_cols"
   ]
  },
  {
   "cell_type": "code",
   "execution_count": 24,
   "metadata": {
    "ExecuteTime": {
     "end_time": "2020-11-30T23:25:12.334029Z",
     "start_time": "2020-11-30T23:25:12.329574Z"
    }
   },
   "outputs": [
    {
     "data": {
      "text/plain": [
       "['service',\n",
       " 'flag',\n",
       " 'attack',\n",
       " 'protocol_type',\n",
       " 'target_type',\n",
       " 'land',\n",
       " 'logged_in',\n",
       " 'root_shell',\n",
       " 'is_guest_login']"
      ]
     },
     "execution_count": 24,
     "metadata": {},
     "output_type": "execute_result"
    }
   ],
   "source": [
    "# definir dados binários como categóricos \n",
    "for col in binary_cols:\n",
    "    categorical_cols.append(col)\n",
    "categorical_cols"
   ]
  },
  {
   "cell_type": "code",
   "execution_count": null,
   "metadata": {},
   "outputs": [],
   "source": []
  },
  {
   "cell_type": "markdown",
   "metadata": {},
   "source": [
    "### Explorar dados categóricos "
   ]
  },
  {
   "cell_type": "code",
   "execution_count": 25,
   "metadata": {
    "ExecuteTime": {
     "end_time": "2020-11-30T23:25:14.613116Z",
     "start_time": "2020-11-30T23:25:14.609021Z"
    }
   },
   "outputs": [],
   "source": [
    "def plot_dist(col):\n",
    "    plt.figure(figsize=(15,5))\n",
    "    dataset[col].value_counts().plot(kind='bar')\n",
    "    plt.title(\"{}\".format(col), fontsize= 18)\n",
    "    plt.show()"
   ]
  },
  {
   "cell_type": "code",
   "execution_count": 26,
   "metadata": {
    "ExecuteTime": {
     "end_time": "2020-11-30T23:25:17.261894Z",
     "start_time": "2020-11-30T23:25:15.539014Z"
    },
    "scrolled": false
   },
   "outputs": [
    {
     "data": {
      "image/png": "[encoded data removed]",
      "text/plain": [
       "<Figure size 1080x360 with 1 Axes>"
      ]
     },
     "metadata": {
      "needs_background": "light"
     },
     "output_type": "display_data"
    },
    {
     "data": {
      "image/png": "[encoded data removed]",
      "text/plain": [
       "<Figure size 1080x360 with 1 Axes>"
      ]
     },
     "metadata": {
      "needs_background": "light"
     },
     "output_type": "display_data"
    },
    {
     "data": {
      "image/png": "[encoded data removed]",
      "text/plain": [
       "<Figure size 1080x360 with 1 Axes>"
      ]
     },
     "metadata": {
      "needs_background": "light"
     },
     "output_type": "display_data"
    },
    {
     "data": {
      "image/png": "[encoded data removed]",
      "text/plain": [
       "<Figure size 1080x360 with 1 Axes>"
      ]
     },
     "metadata": {
      "needs_background": "light"
     },
     "output_type": "display_data"
    },
    {
     "data": {
      "image/png": "[encoded data removed]",
      "text/plain": [
       "<Figure size 1080x360 with 1 Axes>"
      ]
     },
     "metadata": {
      "needs_background": "light"
     },
     "output_type": "display_data"
    },
    {
     "data": {
      "image/png": "[encoded data removed]",
      "text/plain": [
       "<Figure size 1080x360 with 1 Axes>"
      ]
     },
     "metadata": {
      "needs_background": "light"
     },
     "output_type": "display_data"
    },
    {
     "data": {
      "image/png": "[encoded data removed]",
      "text/plain": [
       "<Figure size 1080x360 with 1 Axes>"
      ]
     },
     "metadata": {
      "needs_background": "light"
     },
     "output_type": "display_data"
    },
    {
     "data": {
      "image/png": "[encoded data removed]",
      "text/plain": [
       "<Figure size 1080x360 with 1 Axes>"
      ]
     },
     "metadata": {
      "needs_background": "light"
     },
     "output_type": "display_data"
    },
    {
     "data": {
      "image/png": "[encoded data removed]",
      "text/plain": [
       "<Figure size 1080x360 with 1 Axes>"
      ]
     },
     "metadata": {
      "needs_background": "light"
     },
     "output_type": "display_data"
    }
   ],
   "source": [
    "for i in categorical_cols:\n",
    "    plot_dist(i)"
   ]
  },
  {
   "cell_type": "markdown",
   "metadata": {},
   "source": [
    "### Explorar features numéricos"
   ]
  },
  {
   "cell_type": "code",
   "execution_count": 27,
   "metadata": {
    "ExecuteTime": {
     "end_time": "2020-11-30T23:25:18.795399Z",
     "start_time": "2020-11-30T23:25:18.183637Z"
    }
   },
   "outputs": [
    {
     "data": {
      "text/html": [
       "<div>\n",
       "<style scoped>\n",
       "    .dataframe tbody tr th:only-of-type {\n",
       "        vertical-align: middle;\n",
       "    }\n",
       "\n",
       "    .dataframe tbody tr th {\n",
       "        vertical-align: top;\n",
       "    }\n",
       "\n",
       "    .dataframe thead th {\n",
       "        text-align: right;\n",
       "    }\n",
       "</style>\n",
       "<table border=\"1\" class=\"dataframe\">\n",
       "  <thead>\n",
       "    <tr style=\"text-align: right;\">\n",
       "      <th></th>\n",
       "      <th>count</th>\n",
       "      <th>mean</th>\n",
       "      <th>std</th>\n",
       "      <th>min</th>\n",
       "      <th>25%</th>\n",
       "      <th>50%</th>\n",
       "      <th>75%</th>\n",
       "      <th>max</th>\n",
       "    </tr>\n",
       "  </thead>\n",
       "  <tbody>\n",
       "    <tr>\n",
       "      <th>duration</th>\n",
       "      <td>494021.0</td>\n",
       "      <td>47.979302</td>\n",
       "      <td>707.746472</td>\n",
       "      <td>0.0</td>\n",
       "      <td>0.00</td>\n",
       "      <td>0.0</td>\n",
       "      <td>0.00</td>\n",
       "      <td>58329.0</td>\n",
       "    </tr>\n",
       "    <tr>\n",
       "      <th>src_bytes</th>\n",
       "      <td>494021.0</td>\n",
       "      <td>3025.610296</td>\n",
       "      <td>988218.101050</td>\n",
       "      <td>0.0</td>\n",
       "      <td>45.00</td>\n",
       "      <td>520.0</td>\n",
       "      <td>1032.00</td>\n",
       "      <td>693375640.0</td>\n",
       "    </tr>\n",
       "    <tr>\n",
       "      <th>dst_bytes</th>\n",
       "      <td>494021.0</td>\n",
       "      <td>868.532425</td>\n",
       "      <td>33040.001252</td>\n",
       "      <td>0.0</td>\n",
       "      <td>0.00</td>\n",
       "      <td>0.0</td>\n",
       "      <td>0.00</td>\n",
       "      <td>5155468.0</td>\n",
       "    </tr>\n",
       "    <tr>\n",
       "      <th>wrong_fragment</th>\n",
       "      <td>494021.0</td>\n",
       "      <td>0.006433</td>\n",
       "      <td>0.134805</td>\n",
       "      <td>0.0</td>\n",
       "      <td>0.00</td>\n",
       "      <td>0.0</td>\n",
       "      <td>0.00</td>\n",
       "      <td>3.0</td>\n",
       "    </tr>\n",
       "    <tr>\n",
       "      <th>urgent</th>\n",
       "      <td>494021.0</td>\n",
       "      <td>0.000014</td>\n",
       "      <td>0.005510</td>\n",
       "      <td>0.0</td>\n",
       "      <td>0.00</td>\n",
       "      <td>0.0</td>\n",
       "      <td>0.00</td>\n",
       "      <td>3.0</td>\n",
       "    </tr>\n",
       "    <tr>\n",
       "      <th>hot</th>\n",
       "      <td>494021.0</td>\n",
       "      <td>0.034519</td>\n",
       "      <td>0.782103</td>\n",
       "      <td>0.0</td>\n",
       "      <td>0.00</td>\n",
       "      <td>0.0</td>\n",
       "      <td>0.00</td>\n",
       "      <td>30.0</td>\n",
       "    </tr>\n",
       "    <tr>\n",
       "      <th>num_failed_logins</th>\n",
       "      <td>494021.0</td>\n",
       "      <td>0.000152</td>\n",
       "      <td>0.015520</td>\n",
       "      <td>0.0</td>\n",
       "      <td>0.00</td>\n",
       "      <td>0.0</td>\n",
       "      <td>0.00</td>\n",
       "      <td>5.0</td>\n",
       "    </tr>\n",
       "    <tr>\n",
       "      <th>num_compromised</th>\n",
       "      <td>494021.0</td>\n",
       "      <td>0.010212</td>\n",
       "      <td>1.798326</td>\n",
       "      <td>0.0</td>\n",
       "      <td>0.00</td>\n",
       "      <td>0.0</td>\n",
       "      <td>0.00</td>\n",
       "      <td>884.0</td>\n",
       "    </tr>\n",
       "    <tr>\n",
       "      <th>su_attempted</th>\n",
       "      <td>494021.0</td>\n",
       "      <td>0.000036</td>\n",
       "      <td>0.007793</td>\n",
       "      <td>0.0</td>\n",
       "      <td>0.00</td>\n",
       "      <td>0.0</td>\n",
       "      <td>0.00</td>\n",
       "      <td>2.0</td>\n",
       "    </tr>\n",
       "    <tr>\n",
       "      <th>num_root</th>\n",
       "      <td>494021.0</td>\n",
       "      <td>0.011352</td>\n",
       "      <td>2.012718</td>\n",
       "      <td>0.0</td>\n",
       "      <td>0.00</td>\n",
       "      <td>0.0</td>\n",
       "      <td>0.00</td>\n",
       "      <td>993.0</td>\n",
       "    </tr>\n",
       "    <tr>\n",
       "      <th>num_file_creations</th>\n",
       "      <td>494021.0</td>\n",
       "      <td>0.001083</td>\n",
       "      <td>0.096416</td>\n",
       "      <td>0.0</td>\n",
       "      <td>0.00</td>\n",
       "      <td>0.0</td>\n",
       "      <td>0.00</td>\n",
       "      <td>28.0</td>\n",
       "    </tr>\n",
       "    <tr>\n",
       "      <th>num_shells</th>\n",
       "      <td>494021.0</td>\n",
       "      <td>0.000109</td>\n",
       "      <td>0.011020</td>\n",
       "      <td>0.0</td>\n",
       "      <td>0.00</td>\n",
       "      <td>0.0</td>\n",
       "      <td>0.00</td>\n",
       "      <td>2.0</td>\n",
       "    </tr>\n",
       "    <tr>\n",
       "      <th>num_access_files</th>\n",
       "      <td>494021.0</td>\n",
       "      <td>0.001008</td>\n",
       "      <td>0.036482</td>\n",
       "      <td>0.0</td>\n",
       "      <td>0.00</td>\n",
       "      <td>0.0</td>\n",
       "      <td>0.00</td>\n",
       "      <td>8.0</td>\n",
       "    </tr>\n",
       "    <tr>\n",
       "      <th>count</th>\n",
       "      <td>494021.0</td>\n",
       "      <td>332.285690</td>\n",
       "      <td>213.147412</td>\n",
       "      <td>0.0</td>\n",
       "      <td>117.00</td>\n",
       "      <td>510.0</td>\n",
       "      <td>511.00</td>\n",
       "      <td>511.0</td>\n",
       "    </tr>\n",
       "    <tr>\n",
       "      <th>srv_count</th>\n",
       "      <td>494021.0</td>\n",
       "      <td>292.906557</td>\n",
       "      <td>246.322817</td>\n",
       "      <td>0.0</td>\n",
       "      <td>10.00</td>\n",
       "      <td>510.0</td>\n",
       "      <td>511.00</td>\n",
       "      <td>511.0</td>\n",
       "    </tr>\n",
       "    <tr>\n",
       "      <th>serror_rate</th>\n",
       "      <td>494021.0</td>\n",
       "      <td>0.176687</td>\n",
       "      <td>0.380717</td>\n",
       "      <td>0.0</td>\n",
       "      <td>0.00</td>\n",
       "      <td>0.0</td>\n",
       "      <td>0.00</td>\n",
       "      <td>1.0</td>\n",
       "    </tr>\n",
       "    <tr>\n",
       "      <th>srv_serror_rate</th>\n",
       "      <td>494021.0</td>\n",
       "      <td>0.176609</td>\n",
       "      <td>0.381017</td>\n",
       "      <td>0.0</td>\n",
       "      <td>0.00</td>\n",
       "      <td>0.0</td>\n",
       "      <td>0.00</td>\n",
       "      <td>1.0</td>\n",
       "    </tr>\n",
       "    <tr>\n",
       "      <th>rerror_rate</th>\n",
       "      <td>494021.0</td>\n",
       "      <td>0.057433</td>\n",
       "      <td>0.231623</td>\n",
       "      <td>0.0</td>\n",
       "      <td>0.00</td>\n",
       "      <td>0.0</td>\n",
       "      <td>0.00</td>\n",
       "      <td>1.0</td>\n",
       "    </tr>\n",
       "    <tr>\n",
       "      <th>srv_rerror_rate</th>\n",
       "      <td>494021.0</td>\n",
       "      <td>0.057719</td>\n",
       "      <td>0.232147</td>\n",
       "      <td>0.0</td>\n",
       "      <td>0.00</td>\n",
       "      <td>0.0</td>\n",
       "      <td>0.00</td>\n",
       "      <td>1.0</td>\n",
       "    </tr>\n",
       "    <tr>\n",
       "      <th>same_srv_rate</th>\n",
       "      <td>494021.0</td>\n",
       "      <td>0.791547</td>\n",
       "      <td>0.388189</td>\n",
       "      <td>0.0</td>\n",
       "      <td>1.00</td>\n",
       "      <td>1.0</td>\n",
       "      <td>1.00</td>\n",
       "      <td>1.0</td>\n",
       "    </tr>\n",
       "    <tr>\n",
       "      <th>diff_srv_rate</th>\n",
       "      <td>494021.0</td>\n",
       "      <td>0.020982</td>\n",
       "      <td>0.082205</td>\n",
       "      <td>0.0</td>\n",
       "      <td>0.00</td>\n",
       "      <td>0.0</td>\n",
       "      <td>0.00</td>\n",
       "      <td>1.0</td>\n",
       "    </tr>\n",
       "    <tr>\n",
       "      <th>srv_diff_host_rate</th>\n",
       "      <td>494021.0</td>\n",
       "      <td>0.028997</td>\n",
       "      <td>0.142397</td>\n",
       "      <td>0.0</td>\n",
       "      <td>0.00</td>\n",
       "      <td>0.0</td>\n",
       "      <td>0.00</td>\n",
       "      <td>1.0</td>\n",
       "    </tr>\n",
       "    <tr>\n",
       "      <th>dst_host_count</th>\n",
       "      <td>494021.0</td>\n",
       "      <td>232.470778</td>\n",
       "      <td>64.745380</td>\n",
       "      <td>0.0</td>\n",
       "      <td>255.00</td>\n",
       "      <td>255.0</td>\n",
       "      <td>255.00</td>\n",
       "      <td>255.0</td>\n",
       "    </tr>\n",
       "    <tr>\n",
       "      <th>dst_host_srv_count</th>\n",
       "      <td>494021.0</td>\n",
       "      <td>188.665670</td>\n",
       "      <td>106.040437</td>\n",
       "      <td>0.0</td>\n",
       "      <td>46.00</td>\n",
       "      <td>255.0</td>\n",
       "      <td>255.00</td>\n",
       "      <td>255.0</td>\n",
       "    </tr>\n",
       "    <tr>\n",
       "      <th>dst_host_same_srv_rate</th>\n",
       "      <td>494021.0</td>\n",
       "      <td>0.753780</td>\n",
       "      <td>0.410781</td>\n",
       "      <td>0.0</td>\n",
       "      <td>0.41</td>\n",
       "      <td>1.0</td>\n",
       "      <td>1.00</td>\n",
       "      <td>1.0</td>\n",
       "    </tr>\n",
       "    <tr>\n",
       "      <th>dst_host_diff_srv_rate</th>\n",
       "      <td>494021.0</td>\n",
       "      <td>0.030906</td>\n",
       "      <td>0.109259</td>\n",
       "      <td>0.0</td>\n",
       "      <td>0.00</td>\n",
       "      <td>0.0</td>\n",
       "      <td>0.04</td>\n",
       "      <td>1.0</td>\n",
       "    </tr>\n",
       "    <tr>\n",
       "      <th>dst_host_same_src_port_rate</th>\n",
       "      <td>494021.0</td>\n",
       "      <td>0.601935</td>\n",
       "      <td>0.481309</td>\n",
       "      <td>0.0</td>\n",
       "      <td>0.00</td>\n",
       "      <td>1.0</td>\n",
       "      <td>1.00</td>\n",
       "      <td>1.0</td>\n",
       "    </tr>\n",
       "    <tr>\n",
       "      <th>dst_host_srv_diff_host_rate</th>\n",
       "      <td>494021.0</td>\n",
       "      <td>0.006684</td>\n",
       "      <td>0.042133</td>\n",
       "      <td>0.0</td>\n",
       "      <td>0.00</td>\n",
       "      <td>0.0</td>\n",
       "      <td>0.00</td>\n",
       "      <td>1.0</td>\n",
       "    </tr>\n",
       "    <tr>\n",
       "      <th>dst_host_serror_rate</th>\n",
       "      <td>494021.0</td>\n",
       "      <td>0.176754</td>\n",
       "      <td>0.380593</td>\n",
       "      <td>0.0</td>\n",
       "      <td>0.00</td>\n",
       "      <td>0.0</td>\n",
       "      <td>0.00</td>\n",
       "      <td>1.0</td>\n",
       "    </tr>\n",
       "    <tr>\n",
       "      <th>dst_host_srv_serror_rate</th>\n",
       "      <td>494021.0</td>\n",
       "      <td>0.176443</td>\n",
       "      <td>0.380919</td>\n",
       "      <td>0.0</td>\n",
       "      <td>0.00</td>\n",
       "      <td>0.0</td>\n",
       "      <td>0.00</td>\n",
       "      <td>1.0</td>\n",
       "    </tr>\n",
       "    <tr>\n",
       "      <th>dst_host_rerror_rate</th>\n",
       "      <td>494021.0</td>\n",
       "      <td>0.058118</td>\n",
       "      <td>0.230590</td>\n",
       "      <td>0.0</td>\n",
       "      <td>0.00</td>\n",
       "      <td>0.0</td>\n",
       "      <td>0.00</td>\n",
       "      <td>1.0</td>\n",
       "    </tr>\n",
       "    <tr>\n",
       "      <th>dst_host_srv_rerror_rate</th>\n",
       "      <td>494021.0</td>\n",
       "      <td>0.057412</td>\n",
       "      <td>0.230140</td>\n",
       "      <td>0.0</td>\n",
       "      <td>0.00</td>\n",
       "      <td>0.0</td>\n",
       "      <td>0.00</td>\n",
       "      <td>1.0</td>\n",
       "    </tr>\n",
       "  </tbody>\n",
       "</table>\n",
       "</div>"
      ],
      "text/plain": [
       "                                count         mean            std  min  \\\n",
       "duration                     494021.0    47.979302     707.746472  0.0   \n",
       "src_bytes                    494021.0  3025.610296  988218.101050  0.0   \n",
       "dst_bytes                    494021.0   868.532425   33040.001252  0.0   \n",
       "wrong_fragment               494021.0     0.006433       0.134805  0.0   \n",
       "urgent                       494021.0     0.000014       0.005510  0.0   \n",
       "hot                          494021.0     0.034519       0.782103  0.0   \n",
       "num_failed_logins            494021.0     0.000152       0.015520  0.0   \n",
       "num_compromised              494021.0     0.010212       1.798326  0.0   \n",
       "su_attempted                 494021.0     0.000036       0.007793  0.0   \n",
       "num_root                     494021.0     0.011352       2.012718  0.0   \n",
       "num_file_creations           494021.0     0.001083       0.096416  0.0   \n",
       "num_shells                   494021.0     0.000109       0.011020  0.0   \n",
       "num_access_files             494021.0     0.001008       0.036482  0.0   \n",
       "count                        494021.0   332.285690     213.147412  0.0   \n",
       "srv_count                    494021.0   292.906557     246.322817  0.0   \n",
       "serror_rate                  494021.0     0.176687       0.380717  0.0   \n",
       "srv_serror_rate              494021.0     0.176609       0.381017  0.0   \n",
       "rerror_rate                  494021.0     0.057433       0.231623  0.0   \n",
       "srv_rerror_rate              494021.0     0.057719       0.232147  0.0   \n",
       "same_srv_rate                494021.0     0.791547       0.388189  0.0   \n",
       "diff_srv_rate                494021.0     0.020982       0.082205  0.0   \n",
       "srv_diff_host_rate           494021.0     0.028997       0.142397  0.0   \n",
       "dst_host_count               494021.0   232.470778      64.745380  0.0   \n",
       "dst_host_srv_count           494021.0   188.665670     106.040437  0.0   \n",
       "dst_host_same_srv_rate       494021.0     0.753780       0.410781  0.0   \n",
       "dst_host_diff_srv_rate       494021.0     0.030906       0.109259  0.0   \n",
       "dst_host_same_src_port_rate  494021.0     0.601935       0.481309  0.0   \n",
       "dst_host_srv_diff_host_rate  494021.0     0.006684       0.042133  0.0   \n",
       "dst_host_serror_rate         494021.0     0.176754       0.380593  0.0   \n",
       "dst_host_srv_serror_rate     494021.0     0.176443       0.380919  0.0   \n",
       "dst_host_rerror_rate         494021.0     0.058118       0.230590  0.0   \n",
       "dst_host_srv_rerror_rate     494021.0     0.057412       0.230140  0.0   \n",
       "\n",
       "                                25%    50%      75%          max  \n",
       "duration                       0.00    0.0     0.00      58329.0  \n",
       "src_bytes                     45.00  520.0  1032.00  693375640.0  \n",
       "dst_bytes                      0.00    0.0     0.00    5155468.0  \n",
       "wrong_fragment                 0.00    0.0     0.00          3.0  \n",
       "urgent                         0.00    0.0     0.00          3.0  \n",
       "hot                            0.00    0.0     0.00         30.0  \n",
       "num_failed_logins              0.00    0.0     0.00          5.0  \n",
       "num_compromised                0.00    0.0     0.00        884.0  \n",
       "su_attempted                   0.00    0.0     0.00          2.0  \n",
       "num_root                       0.00    0.0     0.00        993.0  \n",
       "num_file_creations             0.00    0.0     0.00         28.0  \n",
       "num_shells                     0.00    0.0     0.00          2.0  \n",
       "num_access_files               0.00    0.0     0.00          8.0  \n",
       "count                        117.00  510.0   511.00        511.0  \n",
       "srv_count                     10.00  510.0   511.00        511.0  \n",
       "serror_rate                    0.00    0.0     0.00          1.0  \n",
       "srv_serror_rate                0.00    0.0     0.00          1.0  \n",
       "rerror_rate                    0.00    0.0     0.00          1.0  \n",
       "srv_rerror_rate                0.00    0.0     0.00          1.0  \n",
       "same_srv_rate                  1.00    1.0     1.00          1.0  \n",
       "diff_srv_rate                  0.00    0.0     0.00          1.0  \n",
       "srv_diff_host_rate             0.00    0.0     0.00          1.0  \n",
       "dst_host_count               255.00  255.0   255.00        255.0  \n",
       "dst_host_srv_count            46.00  255.0   255.00        255.0  \n",
       "dst_host_same_srv_rate         0.41    1.0     1.00          1.0  \n",
       "dst_host_diff_srv_rate         0.00    0.0     0.04          1.0  \n",
       "dst_host_same_src_port_rate    0.00    1.0     1.00          1.0  \n",
       "dst_host_srv_diff_host_rate    0.00    0.0     0.00          1.0  \n",
       "dst_host_serror_rate           0.00    0.0     0.00          1.0  \n",
       "dst_host_srv_serror_rate       0.00    0.0     0.00          1.0  \n",
       "dst_host_rerror_rate           0.00    0.0     0.00          1.0  \n",
       "dst_host_srv_rerror_rate       0.00    0.0     0.00          1.0  "
      ]
     },
     "execution_count": 27,
     "metadata": {},
     "output_type": "execute_result"
    }
   ],
   "source": [
    "dataset.drop(categorical_cols, axis=1).describe().T"
   ]
  },
  {
   "cell_type": "markdown",
   "metadata": {},
   "source": [
    "### Verificar correlação"
   ]
  },
  {
   "cell_type": "code",
   "execution_count": 28,
   "metadata": {
    "ExecuteTime": {
     "end_time": "2020-11-30T23:25:21.217848Z",
     "start_time": "2020-11-30T23:25:20.111851Z"
    }
   },
   "outputs": [
    {
     "data": {
      "image/png": "[encoded data removed]",
      "text/plain": [
       "<Figure size 504x504 with 1 Axes>"
      ]
     },
     "metadata": {
      "needs_background": "light"
     },
     "output_type": "display_data"
    }
   ],
   "source": [
    "plt.figure(figsize=(7,7))\n",
    "plt.matshow(dataset.drop(categorical_cols, axis=1).corr(), fignum=1);"
   ]
  },
  {
   "cell_type": "markdown",
   "metadata": {},
   "source": [
    "`Existem muito valores com alta correlação. É possivel de serem retirados do dataset sem muitos problemas, pois não devem fazer muita difereça no accuraccy total, ale'm de baixar o tempo de treinamento. Retirar estes features é totalmente opcional, pois só aumantam o tempo de processamanto, o que neste caso (rede Neural simples, não fz muita diferença. `"
   ]
  },
  {
   "cell_type": "markdown",
   "metadata": {},
   "source": [
    "## Normalizar features numericos"
   ]
  },
  {
   "cell_type": "code",
   "execution_count": 29,
   "metadata": {
    "ExecuteTime": {
     "end_time": "2020-11-30T23:25:22.011304Z",
     "start_time": "2020-11-30T23:25:21.936103Z"
    }
   },
   "outputs": [],
   "source": [
    "names_to_normalize = list(dataset.drop(categorical_cols, axis=1).columns)"
   ]
  },
  {
   "cell_type": "code",
   "execution_count": 30,
   "metadata": {
    "ExecuteTime": {
     "end_time": "2020-11-30T23:25:25.276539Z",
     "start_time": "2020-11-30T23:25:22.724165Z"
    }
   },
   "outputs": [],
   "source": [
    "min_max_scaler = preprocessing.MinMaxScaler()\n",
    "data_scaled = dataset.copy(deep=True)\n",
    "data_scaled[names_to_normalize] = min_max_scaler.fit_transform(\n",
    "    dataset[names_to_normalize])"
   ]
  },
  {
   "cell_type": "code",
   "execution_count": 31,
   "metadata": {
    "ExecuteTime": {
     "end_time": "2020-11-30T23:25:25.780273Z",
     "start_time": "2020-11-30T23:25:25.752539Z"
    }
   },
   "outputs": [
    {
     "data": {
      "text/html": [
       "<div>\n",
       "<style scoped>\n",
       "    .dataframe tbody tr th:only-of-type {\n",
       "        vertical-align: middle;\n",
       "    }\n",
       "\n",
       "    .dataframe tbody tr th {\n",
       "        vertical-align: top;\n",
       "    }\n",
       "\n",
       "    .dataframe thead th {\n",
       "        text-align: right;\n",
       "    }\n",
       "</style>\n",
       "<table border=\"1\" class=\"dataframe\">\n",
       "  <thead>\n",
       "    <tr style=\"text-align: right;\">\n",
       "      <th></th>\n",
       "      <th>duration</th>\n",
       "      <th>protocol_type</th>\n",
       "      <th>service</th>\n",
       "      <th>flag</th>\n",
       "      <th>src_bytes</th>\n",
       "      <th>dst_bytes</th>\n",
       "      <th>land</th>\n",
       "      <th>wrong_fragment</th>\n",
       "      <th>urgent</th>\n",
       "      <th>hot</th>\n",
       "      <th>...</th>\n",
       "      <th>dst_host_same_srv_rate</th>\n",
       "      <th>dst_host_diff_srv_rate</th>\n",
       "      <th>dst_host_same_src_port_rate</th>\n",
       "      <th>dst_host_srv_diff_host_rate</th>\n",
       "      <th>dst_host_serror_rate</th>\n",
       "      <th>dst_host_srv_serror_rate</th>\n",
       "      <th>dst_host_rerror_rate</th>\n",
       "      <th>dst_host_srv_rerror_rate</th>\n",
       "      <th>attack</th>\n",
       "      <th>target_type</th>\n",
       "    </tr>\n",
       "  </thead>\n",
       "  <tbody>\n",
       "    <tr>\n",
       "      <th>0</th>\n",
       "      <td>0.0</td>\n",
       "      <td>tcp</td>\n",
       "      <td>http</td>\n",
       "      <td>SF</td>\n",
       "      <td>2.610418e-07</td>\n",
       "      <td>0.001057</td>\n",
       "      <td>0</td>\n",
       "      <td>0.0</td>\n",
       "      <td>0.0</td>\n",
       "      <td>0.0</td>\n",
       "      <td>...</td>\n",
       "      <td>1.0</td>\n",
       "      <td>0.0</td>\n",
       "      <td>0.11</td>\n",
       "      <td>0.0</td>\n",
       "      <td>0.0</td>\n",
       "      <td>0.0</td>\n",
       "      <td>0.0</td>\n",
       "      <td>0.0</td>\n",
       "      <td>normal.</td>\n",
       "      <td>normal</td>\n",
       "    </tr>\n",
       "    <tr>\n",
       "      <th>1</th>\n",
       "      <td>0.0</td>\n",
       "      <td>tcp</td>\n",
       "      <td>http</td>\n",
       "      <td>SF</td>\n",
       "      <td>3.446905e-07</td>\n",
       "      <td>0.000094</td>\n",
       "      <td>0</td>\n",
       "      <td>0.0</td>\n",
       "      <td>0.0</td>\n",
       "      <td>0.0</td>\n",
       "      <td>...</td>\n",
       "      <td>1.0</td>\n",
       "      <td>0.0</td>\n",
       "      <td>0.05</td>\n",
       "      <td>0.0</td>\n",
       "      <td>0.0</td>\n",
       "      <td>0.0</td>\n",
       "      <td>0.0</td>\n",
       "      <td>0.0</td>\n",
       "      <td>normal.</td>\n",
       "      <td>normal</td>\n",
       "    </tr>\n",
       "    <tr>\n",
       "      <th>2</th>\n",
       "      <td>0.0</td>\n",
       "      <td>tcp</td>\n",
       "      <td>http</td>\n",
       "      <td>SF</td>\n",
       "      <td>3.389216e-07</td>\n",
       "      <td>0.000259</td>\n",
       "      <td>0</td>\n",
       "      <td>0.0</td>\n",
       "      <td>0.0</td>\n",
       "      <td>0.0</td>\n",
       "      <td>...</td>\n",
       "      <td>1.0</td>\n",
       "      <td>0.0</td>\n",
       "      <td>0.03</td>\n",
       "      <td>0.0</td>\n",
       "      <td>0.0</td>\n",
       "      <td>0.0</td>\n",
       "      <td>0.0</td>\n",
       "      <td>0.0</td>\n",
       "      <td>normal.</td>\n",
       "      <td>normal</td>\n",
       "    </tr>\n",
       "    <tr>\n",
       "      <th>3</th>\n",
       "      <td>0.0</td>\n",
       "      <td>tcp</td>\n",
       "      <td>http</td>\n",
       "      <td>SF</td>\n",
       "      <td>3.158461e-07</td>\n",
       "      <td>0.000259</td>\n",
       "      <td>0</td>\n",
       "      <td>0.0</td>\n",
       "      <td>0.0</td>\n",
       "      <td>0.0</td>\n",
       "      <td>...</td>\n",
       "      <td>1.0</td>\n",
       "      <td>0.0</td>\n",
       "      <td>0.03</td>\n",
       "      <td>0.0</td>\n",
       "      <td>0.0</td>\n",
       "      <td>0.0</td>\n",
       "      <td>0.0</td>\n",
       "      <td>0.0</td>\n",
       "      <td>normal.</td>\n",
       "      <td>normal</td>\n",
       "    </tr>\n",
       "    <tr>\n",
       "      <th>4</th>\n",
       "      <td>0.0</td>\n",
       "      <td>tcp</td>\n",
       "      <td>http</td>\n",
       "      <td>SF</td>\n",
       "      <td>3.129617e-07</td>\n",
       "      <td>0.000394</td>\n",
       "      <td>0</td>\n",
       "      <td>0.0</td>\n",
       "      <td>0.0</td>\n",
       "      <td>0.0</td>\n",
       "      <td>...</td>\n",
       "      <td>1.0</td>\n",
       "      <td>0.0</td>\n",
       "      <td>0.02</td>\n",
       "      <td>0.0</td>\n",
       "      <td>0.0</td>\n",
       "      <td>0.0</td>\n",
       "      <td>0.0</td>\n",
       "      <td>0.0</td>\n",
       "      <td>normal.</td>\n",
       "      <td>normal</td>\n",
       "    </tr>\n",
       "  </tbody>\n",
       "</table>\n",
       "<p>5 rows × 41 columns</p>\n",
       "</div>"
      ],
      "text/plain": [
       "   duration protocol_type service flag     src_bytes  dst_bytes  land  \\\n",
       "0       0.0           tcp    http   SF  2.610418e-07   0.001057     0   \n",
       "1       0.0           tcp    http   SF  3.446905e-07   0.000094     0   \n",
       "2       0.0           tcp    http   SF  3.389216e-07   0.000259     0   \n",
       "3       0.0           tcp    http   SF  3.158461e-07   0.000259     0   \n",
       "4       0.0           tcp    http   SF  3.129617e-07   0.000394     0   \n",
       "\n",
       "   wrong_fragment  urgent  hot  ...  dst_host_same_srv_rate  \\\n",
       "0             0.0     0.0  0.0  ...                     1.0   \n",
       "1             0.0     0.0  0.0  ...                     1.0   \n",
       "2             0.0     0.0  0.0  ...                     1.0   \n",
       "3             0.0     0.0  0.0  ...                     1.0   \n",
       "4             0.0     0.0  0.0  ...                     1.0   \n",
       "\n",
       "   dst_host_diff_srv_rate  dst_host_same_src_port_rate  \\\n",
       "0                     0.0                         0.11   \n",
       "1                     0.0                         0.05   \n",
       "2                     0.0                         0.03   \n",
       "3                     0.0                         0.03   \n",
       "4                     0.0                         0.02   \n",
       "\n",
       "   dst_host_srv_diff_host_rate  dst_host_serror_rate  \\\n",
       "0                          0.0                   0.0   \n",
       "1                          0.0                   0.0   \n",
       "2                          0.0                   0.0   \n",
       "3                          0.0                   0.0   \n",
       "4                          0.0                   0.0   \n",
       "\n",
       "   dst_host_srv_serror_rate  dst_host_rerror_rate  dst_host_srv_rerror_rate  \\\n",
       "0                       0.0                   0.0                       0.0   \n",
       "1                       0.0                   0.0                       0.0   \n",
       "2                       0.0                   0.0                       0.0   \n",
       "3                       0.0                   0.0                       0.0   \n",
       "4                       0.0                   0.0                       0.0   \n",
       "\n",
       "    attack  target_type  \n",
       "0  normal.       normal  \n",
       "1  normal.       normal  \n",
       "2  normal.       normal  \n",
       "3  normal.       normal  \n",
       "4  normal.       normal  \n",
       "\n",
       "[5 rows x 41 columns]"
      ]
     },
     "execution_count": 31,
     "metadata": {},
     "output_type": "execute_result"
    }
   ],
   "source": [
    "data_scaled.head()"
   ]
  },
  {
   "cell_type": "markdown",
   "metadata": {},
   "source": [
    "## Converter features categoricos em valores numéricos"
   ]
  },
  {
   "cell_type": "code",
   "execution_count": 32,
   "metadata": {
    "ExecuteTime": {
     "end_time": "2020-11-30T23:25:26.174839Z",
     "start_time": "2020-11-30T23:25:26.170416Z"
    }
   },
   "outputs": [],
   "source": [
    "def apply_dummies(df, feature):\n",
    "    get_dummies = pd.get_dummies(df[feature])\n",
    "    for x in get_dummies.columns:\n",
    "        dummy_name = f\"{feature}-{x}\"\n",
    "        df[dummy_name] = get_dummies[x]\n",
    "    df.drop(feature, axis=1, inplace=True)\n",
    "    return None"
   ]
  },
  {
   "cell_type": "code",
   "execution_count": 33,
   "metadata": {
    "ExecuteTime": {
     "end_time": "2020-11-30T23:25:26.734412Z",
     "start_time": "2020-11-30T23:25:26.730588Z"
    }
   },
   "outputs": [
    {
     "data": {
      "text/plain": [
       "['service',\n",
       " 'flag',\n",
       " 'attack',\n",
       " 'protocol_type',\n",
       " 'target_type',\n",
       " 'land',\n",
       " 'logged_in',\n",
       " 'root_shell',\n",
       " 'is_guest_login']"
      ]
     },
     "execution_count": 33,
     "metadata": {},
     "output_type": "execute_result"
    }
   ],
   "source": [
    "categorical_cols"
   ]
  },
  {
   "cell_type": "code",
   "execution_count": 34,
   "metadata": {
    "ExecuteTime": {
     "end_time": "2020-11-30T23:25:29.155615Z",
     "start_time": "2020-11-30T23:25:27.720233Z"
    }
   },
   "outputs": [],
   "source": [
    "# apply one hot encoding for categorical columns except the target and target_types\n",
    "for feature in categorical_cols:\n",
    "    if feature not in ['attack', 'target_type']:\n",
    "        apply_dummies(data_scaled, feature)"
   ]
  },
  {
   "cell_type": "code",
   "execution_count": 35,
   "metadata": {
    "ExecuteTime": {
     "end_time": "2020-11-30T23:25:29.417201Z",
     "start_time": "2020-11-30T23:25:29.411919Z"
    }
   },
   "outputs": [],
   "source": [
    "del data_scaled['attack']"
   ]
  },
  {
   "cell_type": "code",
   "execution_count": 36,
   "metadata": {
    "ExecuteTime": {
     "end_time": "2020-11-30T23:25:29.686433Z",
     "start_time": "2020-11-30T23:25:29.668362Z"
    }
   },
   "outputs": [
    {
     "data": {
      "text/html": [
       "<div>\n",
       "<style scoped>\n",
       "    .dataframe tbody tr th:only-of-type {\n",
       "        vertical-align: middle;\n",
       "    }\n",
       "\n",
       "    .dataframe tbody tr th {\n",
       "        vertical-align: top;\n",
       "    }\n",
       "\n",
       "    .dataframe thead th {\n",
       "        text-align: right;\n",
       "    }\n",
       "</style>\n",
       "<table border=\"1\" class=\"dataframe\">\n",
       "  <thead>\n",
       "    <tr style=\"text-align: right;\">\n",
       "      <th></th>\n",
       "      <th>duration</th>\n",
       "      <th>src_bytes</th>\n",
       "      <th>dst_bytes</th>\n",
       "      <th>wrong_fragment</th>\n",
       "      <th>urgent</th>\n",
       "      <th>hot</th>\n",
       "      <th>num_failed_logins</th>\n",
       "      <th>num_compromised</th>\n",
       "      <th>su_attempted</th>\n",
       "      <th>num_root</th>\n",
       "      <th>...</th>\n",
       "      <th>protocol_type-tcp</th>\n",
       "      <th>protocol_type-udp</th>\n",
       "      <th>land-0</th>\n",
       "      <th>land-1</th>\n",
       "      <th>logged_in-0</th>\n",
       "      <th>logged_in-1</th>\n",
       "      <th>root_shell-0</th>\n",
       "      <th>root_shell-1</th>\n",
       "      <th>is_guest_login-0</th>\n",
       "      <th>is_guest_login-1</th>\n",
       "    </tr>\n",
       "  </thead>\n",
       "  <tbody>\n",
       "    <tr>\n",
       "      <th>0</th>\n",
       "      <td>0.0</td>\n",
       "      <td>2.610418e-07</td>\n",
       "      <td>0.001057</td>\n",
       "      <td>0.0</td>\n",
       "      <td>0.0</td>\n",
       "      <td>0.0</td>\n",
       "      <td>0.0</td>\n",
       "      <td>0.0</td>\n",
       "      <td>0.0</td>\n",
       "      <td>0.0</td>\n",
       "      <td>...</td>\n",
       "      <td>1</td>\n",
       "      <td>0</td>\n",
       "      <td>1</td>\n",
       "      <td>0</td>\n",
       "      <td>0</td>\n",
       "      <td>1</td>\n",
       "      <td>1</td>\n",
       "      <td>0</td>\n",
       "      <td>1</td>\n",
       "      <td>0</td>\n",
       "    </tr>\n",
       "    <tr>\n",
       "      <th>1</th>\n",
       "      <td>0.0</td>\n",
       "      <td>3.446905e-07</td>\n",
       "      <td>0.000094</td>\n",
       "      <td>0.0</td>\n",
       "      <td>0.0</td>\n",
       "      <td>0.0</td>\n",
       "      <td>0.0</td>\n",
       "      <td>0.0</td>\n",
       "      <td>0.0</td>\n",
       "      <td>0.0</td>\n",
       "      <td>...</td>\n",
       "      <td>1</td>\n",
       "      <td>0</td>\n",
       "      <td>1</td>\n",
       "      <td>0</td>\n",
       "      <td>0</td>\n",
       "      <td>1</td>\n",
       "      <td>1</td>\n",
       "      <td>0</td>\n",
       "      <td>1</td>\n",
       "      <td>0</td>\n",
       "    </tr>\n",
       "    <tr>\n",
       "      <th>2</th>\n",
       "      <td>0.0</td>\n",
       "      <td>3.389216e-07</td>\n",
       "      <td>0.000259</td>\n",
       "      <td>0.0</td>\n",
       "      <td>0.0</td>\n",
       "      <td>0.0</td>\n",
       "      <td>0.0</td>\n",
       "      <td>0.0</td>\n",
       "      <td>0.0</td>\n",
       "      <td>0.0</td>\n",
       "      <td>...</td>\n",
       "      <td>1</td>\n",
       "      <td>0</td>\n",
       "      <td>1</td>\n",
       "      <td>0</td>\n",
       "      <td>0</td>\n",
       "      <td>1</td>\n",
       "      <td>1</td>\n",
       "      <td>0</td>\n",
       "      <td>1</td>\n",
       "      <td>0</td>\n",
       "    </tr>\n",
       "    <tr>\n",
       "      <th>3</th>\n",
       "      <td>0.0</td>\n",
       "      <td>3.158461e-07</td>\n",
       "      <td>0.000259</td>\n",
       "      <td>0.0</td>\n",
       "      <td>0.0</td>\n",
       "      <td>0.0</td>\n",
       "      <td>0.0</td>\n",
       "      <td>0.0</td>\n",
       "      <td>0.0</td>\n",
       "      <td>0.0</td>\n",
       "      <td>...</td>\n",
       "      <td>1</td>\n",
       "      <td>0</td>\n",
       "      <td>1</td>\n",
       "      <td>0</td>\n",
       "      <td>0</td>\n",
       "      <td>1</td>\n",
       "      <td>1</td>\n",
       "      <td>0</td>\n",
       "      <td>1</td>\n",
       "      <td>0</td>\n",
       "    </tr>\n",
       "    <tr>\n",
       "      <th>4</th>\n",
       "      <td>0.0</td>\n",
       "      <td>3.129617e-07</td>\n",
       "      <td>0.000394</td>\n",
       "      <td>0.0</td>\n",
       "      <td>0.0</td>\n",
       "      <td>0.0</td>\n",
       "      <td>0.0</td>\n",
       "      <td>0.0</td>\n",
       "      <td>0.0</td>\n",
       "      <td>0.0</td>\n",
       "      <td>...</td>\n",
       "      <td>1</td>\n",
       "      <td>0</td>\n",
       "      <td>1</td>\n",
       "      <td>0</td>\n",
       "      <td>0</td>\n",
       "      <td>1</td>\n",
       "      <td>1</td>\n",
       "      <td>0</td>\n",
       "      <td>1</td>\n",
       "      <td>0</td>\n",
       "    </tr>\n",
       "  </tbody>\n",
       "</table>\n",
       "<p>5 rows × 121 columns</p>\n",
       "</div>"
      ],
      "text/plain": [
       "   duration     src_bytes  dst_bytes  wrong_fragment  urgent  hot  \\\n",
       "0       0.0  2.610418e-07   0.001057             0.0     0.0  0.0   \n",
       "1       0.0  3.446905e-07   0.000094             0.0     0.0  0.0   \n",
       "2       0.0  3.389216e-07   0.000259             0.0     0.0  0.0   \n",
       "3       0.0  3.158461e-07   0.000259             0.0     0.0  0.0   \n",
       "4       0.0  3.129617e-07   0.000394             0.0     0.0  0.0   \n",
       "\n",
       "   num_failed_logins  num_compromised  su_attempted  num_root  ...  \\\n",
       "0                0.0              0.0           0.0       0.0  ...   \n",
       "1                0.0              0.0           0.0       0.0  ...   \n",
       "2                0.0              0.0           0.0       0.0  ...   \n",
       "3                0.0              0.0           0.0       0.0  ...   \n",
       "4                0.0              0.0           0.0       0.0  ...   \n",
       "\n",
       "   protocol_type-tcp  protocol_type-udp  land-0  land-1  logged_in-0  \\\n",
       "0                  1                  0       1       0            0   \n",
       "1                  1                  0       1       0            0   \n",
       "2                  1                  0       1       0            0   \n",
       "3                  1                  0       1       0            0   \n",
       "4                  1                  0       1       0            0   \n",
       "\n",
       "   logged_in-1  root_shell-0  root_shell-1  is_guest_login-0  is_guest_login-1  \n",
       "0            1             1             0                 1                 0  \n",
       "1            1             1             0                 1                 0  \n",
       "2            1             1             0                 1                 0  \n",
       "3            1             1             0                 1                 0  \n",
       "4            1             1             0                 1                 0  \n",
       "\n",
       "[5 rows x 121 columns]"
      ]
     },
     "execution_count": 36,
     "metadata": {},
     "output_type": "execute_result"
    }
   ],
   "source": [
    "data_scaled.head()"
   ]
  },
  {
   "cell_type": "markdown",
   "metadata": {},
   "source": [
    "### Converter Target (target_type) em numérico"
   ]
  },
  {
   "cell_type": "code",
   "execution_count": 37,
   "metadata": {
    "ExecuteTime": {
     "end_time": "2020-11-30T23:25:32.203557Z",
     "start_time": "2020-11-30T23:25:32.182551Z"
    }
   },
   "outputs": [],
   "source": [
    "# Pega os valores unicos da coluna target \n",
    "attack_values = data_scaled.target_type.unique()"
   ]
  },
  {
   "cell_type": "code",
   "execution_count": 38,
   "metadata": {
    "ExecuteTime": {
     "end_time": "2020-11-30T23:25:32.943767Z",
     "start_time": "2020-11-30T23:25:32.939566Z"
    }
   },
   "outputs": [
    {
     "data": {
      "text/plain": [
       "array(['normal', 'u2r', 'dos', 'r2l', 'probe'], dtype=object)"
      ]
     },
     "execution_count": 38,
     "metadata": {},
     "output_type": "execute_result"
    }
   ],
   "source": [
    "attack_values"
   ]
  },
  {
   "cell_type": "code",
   "execution_count": 39,
   "metadata": {
    "ExecuteTime": {
     "end_time": "2020-11-30T23:25:33.887737Z",
     "start_time": "2020-11-30T23:25:33.884882Z"
    }
   },
   "outputs": [],
   "source": [
    "# Transforma strings em numeros\n",
    "attack_dict = dict(zip(attack_values, range(len(attack_values))))"
   ]
  },
  {
   "cell_type": "code",
   "execution_count": 40,
   "metadata": {
    "ExecuteTime": {
     "end_time": "2020-11-30T23:25:34.664161Z",
     "start_time": "2020-11-30T23:25:34.660077Z"
    }
   },
   "outputs": [
    {
     "data": {
      "text/plain": [
       "{'normal': 0, 'u2r': 1, 'dos': 2, 'r2l': 3, 'probe': 4}"
      ]
     },
     "execution_count": 40,
     "metadata": {},
     "output_type": "execute_result"
    }
   ],
   "source": [
    "attack_dict"
   ]
  },
  {
   "cell_type": "code",
   "execution_count": 41,
   "metadata": {
    "ExecuteTime": {
     "end_time": "2020-11-30T23:25:36.076105Z",
     "start_time": "2020-11-30T23:25:35.550694Z"
    }
   },
   "outputs": [],
   "source": [
    "# Substitui os valores no dataset que sao string por numeros\n",
    "data = data_scaled.replace({\n",
    "    \"target_type\": attack_dict\n",
    "})\n",
    "data = data.apply(pd.to_numeric)"
   ]
  },
  {
   "cell_type": "code",
   "execution_count": 42,
   "metadata": {
    "ExecuteTime": {
     "end_time": "2020-11-30T23:25:36.458681Z",
     "start_time": "2020-11-30T23:25:36.442239Z"
    }
   },
   "outputs": [
    {
     "data": {
      "text/html": [
       "<div>\n",
       "<style scoped>\n",
       "    .dataframe tbody tr th:only-of-type {\n",
       "        vertical-align: middle;\n",
       "    }\n",
       "\n",
       "    .dataframe tbody tr th {\n",
       "        vertical-align: top;\n",
       "    }\n",
       "\n",
       "    .dataframe thead th {\n",
       "        text-align: right;\n",
       "    }\n",
       "</style>\n",
       "<table border=\"1\" class=\"dataframe\">\n",
       "  <thead>\n",
       "    <tr style=\"text-align: right;\">\n",
       "      <th></th>\n",
       "      <th>duration</th>\n",
       "      <th>src_bytes</th>\n",
       "      <th>dst_bytes</th>\n",
       "      <th>wrong_fragment</th>\n",
       "      <th>urgent</th>\n",
       "      <th>hot</th>\n",
       "      <th>num_failed_logins</th>\n",
       "      <th>num_compromised</th>\n",
       "      <th>su_attempted</th>\n",
       "      <th>num_root</th>\n",
       "      <th>...</th>\n",
       "      <th>protocol_type-tcp</th>\n",
       "      <th>protocol_type-udp</th>\n",
       "      <th>land-0</th>\n",
       "      <th>land-1</th>\n",
       "      <th>logged_in-0</th>\n",
       "      <th>logged_in-1</th>\n",
       "      <th>root_shell-0</th>\n",
       "      <th>root_shell-1</th>\n",
       "      <th>is_guest_login-0</th>\n",
       "      <th>is_guest_login-1</th>\n",
       "    </tr>\n",
       "  </thead>\n",
       "  <tbody>\n",
       "    <tr>\n",
       "      <th>0</th>\n",
       "      <td>0.0</td>\n",
       "      <td>2.610418e-07</td>\n",
       "      <td>0.001057</td>\n",
       "      <td>0.0</td>\n",
       "      <td>0.0</td>\n",
       "      <td>0.0</td>\n",
       "      <td>0.0</td>\n",
       "      <td>0.0</td>\n",
       "      <td>0.0</td>\n",
       "      <td>0.0</td>\n",
       "      <td>...</td>\n",
       "      <td>1</td>\n",
       "      <td>0</td>\n",
       "      <td>1</td>\n",
       "      <td>0</td>\n",
       "      <td>0</td>\n",
       "      <td>1</td>\n",
       "      <td>1</td>\n",
       "      <td>0</td>\n",
       "      <td>1</td>\n",
       "      <td>0</td>\n",
       "    </tr>\n",
       "    <tr>\n",
       "      <th>1</th>\n",
       "      <td>0.0</td>\n",
       "      <td>3.446905e-07</td>\n",
       "      <td>0.000094</td>\n",
       "      <td>0.0</td>\n",
       "      <td>0.0</td>\n",
       "      <td>0.0</td>\n",
       "      <td>0.0</td>\n",
       "      <td>0.0</td>\n",
       "      <td>0.0</td>\n",
       "      <td>0.0</td>\n",
       "      <td>...</td>\n",
       "      <td>1</td>\n",
       "      <td>0</td>\n",
       "      <td>1</td>\n",
       "      <td>0</td>\n",
       "      <td>0</td>\n",
       "      <td>1</td>\n",
       "      <td>1</td>\n",
       "      <td>0</td>\n",
       "      <td>1</td>\n",
       "      <td>0</td>\n",
       "    </tr>\n",
       "    <tr>\n",
       "      <th>2</th>\n",
       "      <td>0.0</td>\n",
       "      <td>3.389216e-07</td>\n",
       "      <td>0.000259</td>\n",
       "      <td>0.0</td>\n",
       "      <td>0.0</td>\n",
       "      <td>0.0</td>\n",
       "      <td>0.0</td>\n",
       "      <td>0.0</td>\n",
       "      <td>0.0</td>\n",
       "      <td>0.0</td>\n",
       "      <td>...</td>\n",
       "      <td>1</td>\n",
       "      <td>0</td>\n",
       "      <td>1</td>\n",
       "      <td>0</td>\n",
       "      <td>0</td>\n",
       "      <td>1</td>\n",
       "      <td>1</td>\n",
       "      <td>0</td>\n",
       "      <td>1</td>\n",
       "      <td>0</td>\n",
       "    </tr>\n",
       "    <tr>\n",
       "      <th>3</th>\n",
       "      <td>0.0</td>\n",
       "      <td>3.158461e-07</td>\n",
       "      <td>0.000259</td>\n",
       "      <td>0.0</td>\n",
       "      <td>0.0</td>\n",
       "      <td>0.0</td>\n",
       "      <td>0.0</td>\n",
       "      <td>0.0</td>\n",
       "      <td>0.0</td>\n",
       "      <td>0.0</td>\n",
       "      <td>...</td>\n",
       "      <td>1</td>\n",
       "      <td>0</td>\n",
       "      <td>1</td>\n",
       "      <td>0</td>\n",
       "      <td>0</td>\n",
       "      <td>1</td>\n",
       "      <td>1</td>\n",
       "      <td>0</td>\n",
       "      <td>1</td>\n",
       "      <td>0</td>\n",
       "    </tr>\n",
       "    <tr>\n",
       "      <th>4</th>\n",
       "      <td>0.0</td>\n",
       "      <td>3.129617e-07</td>\n",
       "      <td>0.000394</td>\n",
       "      <td>0.0</td>\n",
       "      <td>0.0</td>\n",
       "      <td>0.0</td>\n",
       "      <td>0.0</td>\n",
       "      <td>0.0</td>\n",
       "      <td>0.0</td>\n",
       "      <td>0.0</td>\n",
       "      <td>...</td>\n",
       "      <td>1</td>\n",
       "      <td>0</td>\n",
       "      <td>1</td>\n",
       "      <td>0</td>\n",
       "      <td>0</td>\n",
       "      <td>1</td>\n",
       "      <td>1</td>\n",
       "      <td>0</td>\n",
       "      <td>1</td>\n",
       "      <td>0</td>\n",
       "    </tr>\n",
       "  </tbody>\n",
       "</table>\n",
       "<p>5 rows × 121 columns</p>\n",
       "</div>"
      ],
      "text/plain": [
       "   duration     src_bytes  dst_bytes  wrong_fragment  urgent  hot  \\\n",
       "0       0.0  2.610418e-07   0.001057             0.0     0.0  0.0   \n",
       "1       0.0  3.446905e-07   0.000094             0.0     0.0  0.0   \n",
       "2       0.0  3.389216e-07   0.000259             0.0     0.0  0.0   \n",
       "3       0.0  3.158461e-07   0.000259             0.0     0.0  0.0   \n",
       "4       0.0  3.129617e-07   0.000394             0.0     0.0  0.0   \n",
       "\n",
       "   num_failed_logins  num_compromised  su_attempted  num_root  ...  \\\n",
       "0                0.0              0.0           0.0       0.0  ...   \n",
       "1                0.0              0.0           0.0       0.0  ...   \n",
       "2                0.0              0.0           0.0       0.0  ...   \n",
       "3                0.0              0.0           0.0       0.0  ...   \n",
       "4                0.0              0.0           0.0       0.0  ...   \n",
       "\n",
       "   protocol_type-tcp  protocol_type-udp  land-0  land-1  logged_in-0  \\\n",
       "0                  1                  0       1       0            0   \n",
       "1                  1                  0       1       0            0   \n",
       "2                  1                  0       1       0            0   \n",
       "3                  1                  0       1       0            0   \n",
       "4                  1                  0       1       0            0   \n",
       "\n",
       "   logged_in-1  root_shell-0  root_shell-1  is_guest_login-0  is_guest_login-1  \n",
       "0            1             1             0                 1                 0  \n",
       "1            1             1             0                 1                 0  \n",
       "2            1             1             0                 1                 0  \n",
       "3            1             1             0                 1                 0  \n",
       "4            1             1             0                 1                 0  \n",
       "\n",
       "[5 rows x 121 columns]"
      ]
     },
     "execution_count": 42,
     "metadata": {},
     "output_type": "execute_result"
    }
   ],
   "source": [
    "data.head()"
   ]
  },
  {
   "cell_type": "code",
   "execution_count": 43,
   "metadata": {
    "ExecuteTime": {
     "end_time": "2020-11-30T23:25:37.477137Z",
     "start_time": "2020-11-30T23:25:37.473288Z"
    }
   },
   "outputs": [
    {
     "data": {
      "text/plain": [
       "(494021, 121)"
      ]
     },
     "execution_count": 43,
     "metadata": {},
     "output_type": "execute_result"
    }
   ],
   "source": [
    "data.shape"
   ]
  },
  {
   "cell_type": "markdown",
   "metadata": {},
   "source": [
    "## Definir modelo e dataset de treino e teste"
   ]
  },
  {
   "cell_type": "code",
   "execution_count": 44,
   "metadata": {
    "ExecuteTime": {
     "end_time": "2020-11-30T23:25:39.591721Z",
     "start_time": "2020-11-30T23:25:39.133893Z"
    }
   },
   "outputs": [],
   "source": [
    "#Separa os dados entre treino e teste\n",
    "train, test = np.split(data.sample(frac=1),\n",
    "                       [int(TRAIN_PERCENTAGE * len(data))])"
   ]
  },
  {
   "cell_type": "code",
   "execution_count": 45,
   "metadata": {
    "ExecuteTime": {
     "end_time": "2020-11-30T23:25:40.369089Z",
     "start_time": "2020-11-30T23:25:40.365089Z"
    }
   },
   "outputs": [
    {
     "data": {
      "text/plain": [
       "((395216, 121), (98805, 121))"
      ]
     },
     "execution_count": 45,
     "metadata": {},
     "output_type": "execute_result"
    }
   ],
   "source": [
    "train.shape, test.shape"
   ]
  },
  {
   "cell_type": "code",
   "execution_count": 46,
   "metadata": {
    "ExecuteTime": {
     "end_time": "2020-11-30T23:25:41.494388Z",
     "start_time": "2020-11-30T23:25:41.423343Z"
    }
   },
   "outputs": [],
   "source": [
    "train_samples = train.drop(['target_type'], axis=1)\n",
    "train_labels = to_categorical(\n",
    "    train[['target_type']].to_numpy(), num_classes=len(attack_values))\n",
    "test_samples = test.drop(['target_type'], axis=1)\n",
    "test_labels = to_categorical(test[['target_type']].to_numpy(), num_classes=len(attack_values))"
   ]
  },
  {
   "cell_type": "code",
   "execution_count": 47,
   "metadata": {
    "ExecuteTime": {
     "end_time": "2020-11-30T23:25:43.987388Z",
     "start_time": "2020-11-30T23:25:43.983908Z"
    }
   },
   "outputs": [
    {
     "data": {
      "text/plain": [
       "(395216, 5)"
      ]
     },
     "execution_count": 47,
     "metadata": {},
     "output_type": "execute_result"
    }
   ],
   "source": [
    "train_labels.shape"
   ]
  },
  {
   "cell_type": "code",
   "execution_count": 48,
   "metadata": {
    "ExecuteTime": {
     "end_time": "2020-11-30T23:25:44.860123Z",
     "start_time": "2020-11-30T23:25:44.855659Z"
    }
   },
   "outputs": [
    {
     "data": {
      "text/plain": [
       "(120,)"
      ]
     },
     "execution_count": 48,
     "metadata": {},
     "output_type": "execute_result"
    }
   ],
   "source": [
    "input_shape = (train_samples.shape[1],)\n",
    "input_shape"
   ]
  },
  {
   "cell_type": "markdown",
   "metadata": {},
   "source": [
    "## Definir modelo basico - 1 Node / 1Layer"
   ]
  },
  {
   "cell_type": "code",
   "execution_count": 49,
   "metadata": {
    "ExecuteTime": {
     "end_time": "2020-11-30T23:25:45.804404Z",
     "start_time": "2020-11-30T23:25:45.801137Z"
    }
   },
   "outputs": [],
   "source": [
    "sgd = optimizers.SGD(lr=LEARNING_RATE)"
   ]
  },
  {
   "cell_type": "code",
   "execution_count": 50,
   "metadata": {
    "ExecuteTime": {
     "end_time": "2020-11-30T23:25:47.441345Z",
     "start_time": "2020-11-30T23:25:47.391420Z"
    }
   },
   "outputs": [],
   "source": [
    "# Criacao do modelo\n",
    "model = Sequential ([\n",
    "Dense(1, input_shape=input_shape , activation=ACTIVATION_FN),\n",
    "Dense(len(attack_values), activation='softmax'), ])"
   ]
  },
  {
   "cell_type": "code",
   "execution_count": 51,
   "metadata": {
    "ExecuteTime": {
     "end_time": "2020-11-30T23:25:49.803185Z",
     "start_time": "2020-11-30T23:25:49.799406Z"
    }
   },
   "outputs": [
    {
     "name": "stdout",
     "output_type": "stream",
     "text": [
      "Model: \"sequential\"\n",
      "_________________________________________________________________\n",
      "Layer (type)                 Output Shape              Param #   \n",
      "=================================================================\n",
      "dense (Dense)                (None, 1)                 121       \n",
      "_________________________________________________________________\n",
      "dense_1 (Dense)              (None, 5)                 10        \n",
      "=================================================================\n",
      "Total params: 131\n",
      "Trainable params: 131\n",
      "Non-trainable params: 0\n",
      "_________________________________________________________________\n"
     ]
    }
   ],
   "source": [
    "model.summary()"
   ]
  },
  {
   "cell_type": "code",
   "execution_count": 52,
   "metadata": {
    "ExecuteTime": {
     "end_time": "2020-11-30T23:26:50.054079Z",
     "start_time": "2020-11-30T23:26:50.042953Z"
    }
   },
   "outputs": [],
   "source": [
    " model.compile(\n",
    "     optimizer=sgd,\n",
    "     loss='categorical_crossentropy',\n",
    "     metrics=['accuracy'])"
   ]
  },
  {
   "cell_type": "markdown",
   "metadata": {
    "ExecuteTime": {
     "end_time": "2020-11-30T22:11:21.978407Z",
     "start_time": "2020-11-30T22:11:21.975898Z"
    }
   },
   "source": [
    "### Treinamento e teste do modelo basico  (SGR - Sem def. Batches)"
   ]
  },
  {
   "cell_type": "code",
   "execution_count": 54,
   "metadata": {
    "ExecuteTime": {
     "end_time": "2020-11-30T23:52:44.920449Z",
     "start_time": "2020-11-30T23:27:01.097682Z"
    },
    "scrolled": true
   },
   "outputs": [
    {
     "name": "stdout",
     "output_type": "stream",
     "text": [
      "Epoch 1/200\n",
      "12351/12351 [==============================] - 7s 590us/step - loss: 0.1633 - accuracy: 0.9667 - val_loss: 0.0814 - val_accuracy: 0.9818\n",
      "Epoch 2/200\n",
      "12351/12351 [==============================] - 7s 561us/step - loss: 0.0747 - accuracy: 0.9829 - val_loss: 0.0704 - val_accuracy: 0.9833\n",
      "Epoch 3/200\n",
      "12351/12351 [==============================] - 7s 561us/step - loss: 0.0676 - accuracy: 0.9836 - val_loss: 0.0657 - val_accuracy: 0.9835\n",
      "Epoch 4/200\n",
      "12351/12351 [==============================] - 7s 564us/step - loss: 0.0639 - accuracy: 0.9838 - val_loss: 0.0629 - val_accuracy: 0.9836\n",
      "Epoch 5/200\n",
      "12351/12351 [==============================] - 7s 563us/step - loss: 0.0615 - accuracy: 0.9839 - val_loss: 0.0609 - val_accuracy: 0.9838\n",
      "Epoch 6/200\n",
      "12351/12351 [==============================] - 7s 563us/step - loss: 0.0598 - accuracy: 0.9840 - val_loss: 0.0594 - val_accuracy: 0.9837\n",
      "Epoch 7/200\n",
      "12351/12351 [==============================] - 7s 564us/step - loss: 0.0584 - accuracy: 0.9840 - val_loss: 0.0582 - val_accuracy: 0.9838\n",
      "Epoch 8/200\n",
      "12351/12351 [==============================] - 7s 560us/step - loss: 0.0573 - accuracy: 0.9841 - val_loss: 0.0572 - val_accuracy: 0.9844\n",
      "Epoch 9/200\n",
      "12351/12351 [==============================] - 7s 562us/step - loss: 0.0564 - accuracy: 0.9841 - val_loss: 0.0564 - val_accuracy: 0.9839\n",
      "Epoch 10/200\n",
      "12351/12351 [==============================] - 7s 574us/step - loss: 0.0556 - accuracy: 0.9842 - val_loss: 0.0559 - val_accuracy: 0.9838\n",
      "Epoch 11/200\n",
      "12351/12351 [==============================] - 7s 578us/step - loss: 0.0549 - accuracy: 0.9842 - val_loss: 0.0551 - val_accuracy: 0.9838\n",
      "Epoch 12/200\n",
      "12351/12351 [==============================] - 7s 573us/step - loss: 0.0543 - accuracy: 0.9842 - val_loss: 0.0543 - val_accuracy: 0.9839\n",
      "Epoch 13/200\n",
      "12351/12351 [==============================] - 7s 585us/step - loss: 0.0537 - accuracy: 0.9842 - val_loss: 0.0538 - val_accuracy: 0.9840\n",
      "Epoch 14/200\n",
      "12351/12351 [==============================] - 7s 568us/step - loss: 0.0531 - accuracy: 0.9843 - val_loss: 0.0531 - val_accuracy: 0.9840\n",
      "Epoch 15/200\n",
      "12351/12351 [==============================] - 7s 576us/step - loss: 0.0526 - accuracy: 0.9843 - val_loss: 0.0526 - val_accuracy: 0.9846\n",
      "Epoch 16/200\n",
      "12351/12351 [==============================] - 8s 642us/step - loss: 0.0520 - accuracy: 0.9843 - val_loss: 0.0521 - val_accuracy: 0.9841\n",
      "Epoch 17/200\n",
      "12351/12351 [==============================] - 7s 596us/step - loss: 0.0515 - accuracy: 0.9845 - val_loss: 0.0517 - val_accuracy: 0.9846\n",
      "Epoch 18/200\n",
      "12351/12351 [==============================] - 7s 593us/step - loss: 0.0510 - accuracy: 0.9845 - val_loss: 0.0521 - val_accuracy: 0.9841\n",
      "Epoch 19/200\n",
      "12351/12351 [==============================] - 8s 683us/step - loss: 0.0505 - accuracy: 0.9846 - val_loss: 0.0507 - val_accuracy: 0.9848\n",
      "Epoch 20/200\n",
      "12351/12351 [==============================] - 8s 635us/step - loss: 0.0501 - accuracy: 0.9846 - val_loss: 0.0504 - val_accuracy: 0.9841\n",
      "Epoch 21/200\n",
      "12351/12351 [==============================] - 7s 594us/step - loss: 0.0496 - accuracy: 0.9847 - val_loss: 0.0497 - val_accuracy: 0.9848\n",
      "Epoch 22/200\n",
      "12351/12351 [==============================] - 7s 562us/step - loss: 0.0491 - accuracy: 0.9847 - val_loss: 0.0495 - val_accuracy: 0.9850\n",
      "Epoch 23/200\n",
      "12351/12351 [==============================] - 8s 664us/step - loss: 0.0487 - accuracy: 0.9848 - val_loss: 0.0488 - val_accuracy: 0.9848\n",
      "Epoch 24/200\n",
      "12351/12351 [==============================] - 8s 615us/step - loss: 0.0482 - accuracy: 0.9848 - val_loss: 0.0484 - val_accuracy: 0.9849\n",
      "Epoch 25/200\n",
      "12351/12351 [==============================] - 7s 569us/step - loss: 0.0478 - accuracy: 0.9848 - val_loss: 0.0479 - val_accuracy: 0.9849\n",
      "Epoch 26/200\n",
      "12351/12351 [==============================] - 7s 574us/step - loss: 0.0473 - accuracy: 0.9849 - val_loss: 0.0475 - val_accuracy: 0.9849\n",
      "Epoch 27/200\n",
      "12351/12351 [==============================] - 7s 561us/step - loss: 0.0469 - accuracy: 0.9849 - val_loss: 0.0473 - val_accuracy: 0.9852\n",
      "Epoch 28/200\n",
      "12351/12351 [==============================] - 7s 567us/step - loss: 0.0465 - accuracy: 0.9850 - val_loss: 0.0469 - val_accuracy: 0.9849\n",
      "Epoch 29/200\n",
      "12351/12351 [==============================] - 7s 567us/step - loss: 0.0461 - accuracy: 0.9850 - val_loss: 0.0462 - val_accuracy: 0.9851\n",
      "Epoch 30/200\n",
      "12351/12351 [==============================] - 7s 565us/step - loss: 0.0457 - accuracy: 0.9851 - val_loss: 0.0460 - val_accuracy: 0.9852\n",
      "Epoch 31/200\n",
      "12351/12351 [==============================] - 7s 581us/step - loss: 0.0452 - accuracy: 0.9851 - val_loss: 0.0455 - val_accuracy: 0.9852\n",
      "Epoch 32/200\n",
      "12351/12351 [==============================] - 7s 567us/step - loss: 0.0448 - accuracy: 0.9851 - val_loss: 0.0451 - val_accuracy: 0.9849\n",
      "Epoch 33/200\n",
      "12351/12351 [==============================] - 7s 566us/step - loss: 0.0444 - accuracy: 0.9851 - val_loss: 0.0446 - val_accuracy: 0.9852\n",
      "Epoch 34/200\n",
      "12351/12351 [==============================] - 7s 581us/step - loss: 0.0440 - accuracy: 0.9851 - val_loss: 0.0441 - val_accuracy: 0.9852\n",
      "Epoch 35/200\n",
      "12351/12351 [==============================] - 7s 569us/step - loss: 0.0436 - accuracy: 0.9852 - val_loss: 0.0439 - val_accuracy: 0.9851\n",
      "Epoch 36/200\n",
      "12351/12351 [==============================] - 7s 569us/step - loss: 0.0432 - accuracy: 0.9852 - val_loss: 0.0434 - val_accuracy: 0.9852\n",
      "Epoch 37/200\n",
      "12351/12351 [==============================] - 7s 563us/step - loss: 0.0428 - accuracy: 0.9852 - val_loss: 0.0429 - val_accuracy: 0.9853\n",
      "Epoch 38/200\n",
      "12351/12351 [==============================] - 7s 561us/step - loss: 0.0424 - accuracy: 0.9852 - val_loss: 0.0425 - val_accuracy: 0.9852\n",
      "Epoch 39/200\n",
      "12351/12351 [==============================] - 7s 606us/step - loss: 0.0421 - accuracy: 0.9853 - val_loss: 0.0421 - val_accuracy: 0.9853\n",
      "Epoch 40/200\n",
      "12351/12351 [==============================] - 8s 630us/step - loss: 0.0417 - accuracy: 0.9853 - val_loss: 0.0422 - val_accuracy: 0.9854\n",
      "Epoch 41/200\n",
      "12351/12351 [==============================] - 8s 662us/step - loss: 0.0413 - accuracy: 0.9853 - val_loss: 0.0424 - val_accuracy: 0.9856\n",
      "Epoch 42/200\n",
      "12351/12351 [==============================] - 8s 687us/step - loss: 0.0409 - accuracy: 0.9854 - val_loss: 0.0412 - val_accuracy: 0.9853\n",
      "Epoch 43/200\n",
      "12351/12351 [==============================] - 9s 696us/step - loss: 0.0406 - accuracy: 0.9854 - val_loss: 0.0409 - val_accuracy: 0.9854\n",
      "Epoch 44/200\n",
      "12351/12351 [==============================] - 9s 713us/step - loss: 0.0403 - accuracy: 0.9854 - val_loss: 0.0404 - val_accuracy: 0.9854\n",
      "Epoch 45/200\n",
      "12351/12351 [==============================] - 9s 741us/step - loss: 0.0399 - accuracy: 0.9854 - val_loss: 0.0400 - val_accuracy: 0.9855\n",
      "Epoch 46/200\n",
      "12351/12351 [==============================] - 9s 757us/step - loss: 0.0395 - accuracy: 0.9855 - val_loss: 0.0404 - val_accuracy: 0.9854\n",
      "Epoch 47/200\n",
      "12351/12351 [==============================] - 9s 751us/step - loss: 0.0392 - accuracy: 0.9855 - val_loss: 0.0399 - val_accuracy: 0.9857\n",
      "Epoch 48/200\n",
      "12351/12351 [==============================] - 9s 714us/step - loss: 0.0389 - accuracy: 0.9855 - val_loss: 0.0397 - val_accuracy: 0.9857\n",
      "Epoch 49/200\n",
      "12351/12351 [==============================] - 9s 737us/step - loss: 0.0385 - accuracy: 0.9856 - val_loss: 0.0387 - val_accuracy: 0.9857\n",
      "Epoch 50/200\n",
      "12351/12351 [==============================] - 9s 721us/step - loss: 0.0382 - accuracy: 0.9856 - val_loss: 0.0390 - val_accuracy: 0.9855\n",
      "Epoch 51/200\n",
      "12351/12351 [==============================] - 9s 713us/step - loss: 0.0379 - accuracy: 0.9857 - val_loss: 0.0381 - val_accuracy: 0.9855\n",
      "Epoch 52/200\n",
      "12351/12351 [==============================] - 8s 685us/step - loss: 0.0376 - accuracy: 0.9858 - val_loss: 0.0383 - val_accuracy: 0.9864\n",
      "Epoch 53/200\n",
      "12351/12351 [==============================] - 9s 699us/step - loss: 0.0373 - accuracy: 0.9858 - val_loss: 0.0375 - val_accuracy: 0.9857\n",
      "Epoch 54/200\n",
      "12351/12351 [==============================] - 8s 686us/step - loss: 0.0370 - accuracy: 0.9859 - val_loss: 0.0374 - val_accuracy: 0.9862\n",
      "Epoch 55/200\n",
      "12351/12351 [==============================] - 8s 679us/step - loss: 0.0368 - accuracy: 0.9860 - val_loss: 0.0370 - val_accuracy: 0.9857\n"
     ]
    },
    {
     "name": "stdout",
     "output_type": "stream",
     "text": [
      "Epoch 56/200\n",
      "12351/12351 [==============================] - 8s 653us/step - loss: 0.0365 - accuracy: 0.9861 - val_loss: 0.0369 - val_accuracy: 0.9881\n",
      "Epoch 57/200\n",
      "12351/12351 [==============================] - 8s 655us/step - loss: 0.0362 - accuracy: 0.9863 - val_loss: 0.0364 - val_accuracy: 0.9858\n",
      "Epoch 58/200\n",
      "12351/12351 [==============================] - 8s 648us/step - loss: 0.0360 - accuracy: 0.9864 - val_loss: 0.0363 - val_accuracy: 0.9857\n",
      "Epoch 59/200\n",
      "12351/12351 [==============================] - 8s 631us/step - loss: 0.0357 - accuracy: 0.9866 - val_loss: 0.0359 - val_accuracy: 0.9859\n",
      "Epoch 60/200\n",
      "12351/12351 [==============================] - 8s 656us/step - loss: 0.0355 - accuracy: 0.9869 - val_loss: 0.0363 - val_accuracy: 0.9883\n",
      "Epoch 61/200\n",
      "12351/12351 [==============================] - 8s 654us/step - loss: 0.0353 - accuracy: 0.9870 - val_loss: 0.0357 - val_accuracy: 0.9885\n",
      "Epoch 62/200\n",
      "12351/12351 [==============================] - 8s 640us/step - loss: 0.0350 - accuracy: 0.9871 - val_loss: 0.0356 - val_accuracy: 0.9861\n",
      "Epoch 63/200\n",
      "12351/12351 [==============================] - 8s 639us/step - loss: 0.0348 - accuracy: 0.9874 - val_loss: 0.0359 - val_accuracy: 0.9859\n",
      "Epoch 64/200\n",
      "12351/12351 [==============================] - 8s 658us/step - loss: 0.0347 - accuracy: 0.9875 - val_loss: 0.0351 - val_accuracy: 0.9889\n",
      "Epoch 65/200\n",
      "12351/12351 [==============================] - 8s 630us/step - loss: 0.0344 - accuracy: 0.9876 - val_loss: 0.0347 - val_accuracy: 0.9874\n",
      "Epoch 66/200\n",
      "12351/12351 [==============================] - 8s 650us/step - loss: 0.0343 - accuracy: 0.9879 - val_loss: 0.0345 - val_accuracy: 0.9875\n",
      "Epoch 67/200\n",
      "12351/12351 [==============================] - 8s 651us/step - loss: 0.0340 - accuracy: 0.9881 - val_loss: 0.0349 - val_accuracy: 0.9895\n",
      "Epoch 68/200\n",
      "12351/12351 [==============================] - 8s 626us/step - loss: 0.0339 - accuracy: 0.9883 - val_loss: 0.0343 - val_accuracy: 0.9878\n",
      "Epoch 69/200\n",
      "12351/12351 [==============================] - 8s 648us/step - loss: 0.0337 - accuracy: 0.9884 - val_loss: 0.0340 - val_accuracy: 0.9887\n",
      "Epoch 70/200\n",
      "12351/12351 [==============================] - 8s 647us/step - loss: 0.0335 - accuracy: 0.9886 - val_loss: 0.0346 - val_accuracy: 0.9867\n",
      "Epoch 71/200\n",
      "12351/12351 [==============================] - 8s 633us/step - loss: 0.0334 - accuracy: 0.9887 - val_loss: 0.0337 - val_accuracy: 0.9896\n",
      "Epoch 72/200\n",
      "12351/12351 [==============================] - 8s 655us/step - loss: 0.0332 - accuracy: 0.9889 - val_loss: 0.0336 - val_accuracy: 0.9887\n",
      "Epoch 73/200\n",
      "12351/12351 [==============================] - 8s 651us/step - loss: 0.0330 - accuracy: 0.9891 - val_loss: 0.0333 - val_accuracy: 0.9893\n",
      "Epoch 74/200\n",
      "12351/12351 [==============================] - 8s 633us/step - loss: 0.0329 - accuracy: 0.9893 - val_loss: 0.0332 - val_accuracy: 0.9891\n",
      "Epoch 75/200\n",
      "12351/12351 [==============================] - 8s 661us/step - loss: 0.0327 - accuracy: 0.9895 - val_loss: 0.0333 - val_accuracy: 0.9898\n",
      "Epoch 76/200\n",
      "12351/12351 [==============================] - 8s 662us/step - loss: 0.0326 - accuracy: 0.9897 - val_loss: 0.0330 - val_accuracy: 0.9902\n",
      "Epoch 77/200\n",
      "12351/12351 [==============================] - 8s 655us/step - loss: 0.0324 - accuracy: 0.9898 - val_loss: 0.0329 - val_accuracy: 0.9899\n",
      "Epoch 78/200\n",
      "12351/12351 [==============================] - 8s 645us/step - loss: 0.0324 - accuracy: 0.9899 - val_loss: 0.0328 - val_accuracy: 0.9905\n",
      "Epoch 79/200\n",
      "12351/12351 [==============================] - 8s 638us/step - loss: 0.0322 - accuracy: 0.9901 - val_loss: 0.0328 - val_accuracy: 0.9906\n",
      "Epoch 80/200\n",
      "12351/12351 [==============================] - 8s 656us/step - loss: 0.0321 - accuracy: 0.9902 - val_loss: 0.0333 - val_accuracy: 0.9890\n",
      "Epoch 81/200\n",
      "12351/12351 [==============================] - 8s 654us/step - loss: 0.0320 - accuracy: 0.9903 - val_loss: 0.0327 - val_accuracy: 0.9910\n",
      "Epoch 82/200\n",
      "12351/12351 [==============================] - 8s 644us/step - loss: 0.0319 - accuracy: 0.9904 - val_loss: 0.0327 - val_accuracy: 0.9912\n",
      "Epoch 83/200\n",
      "12351/12351 [==============================] - 8s 650us/step - loss: 0.0318 - accuracy: 0.9905 - val_loss: 0.0322 - val_accuracy: 0.9903\n",
      "Epoch 84/200\n",
      "12351/12351 [==============================] - 8s 653us/step - loss: 0.0316 - accuracy: 0.9906 - val_loss: 0.0321 - val_accuracy: 0.9912\n",
      "Epoch 85/200\n",
      "12351/12351 [==============================] - 8s 645us/step - loss: 0.0315 - accuracy: 0.9909 - val_loss: 0.0323 - val_accuracy: 0.9915\n",
      "Epoch 86/200\n",
      "12351/12351 [==============================] - 8s 639us/step - loss: 0.0314 - accuracy: 0.9910 - val_loss: 0.0321 - val_accuracy: 0.9910\n",
      "Epoch 87/200\n",
      "12351/12351 [==============================] - 8s 659us/step - loss: 0.0314 - accuracy: 0.9910 - val_loss: 0.0319 - val_accuracy: 0.9915\n",
      "Epoch 88/200\n",
      "12351/12351 [==============================] - 8s 653us/step - loss: 0.0313 - accuracy: 0.9912 - val_loss: 0.0322 - val_accuracy: 0.9920\n",
      "Epoch 89/200\n",
      "12351/12351 [==============================] - 8s 642us/step - loss: 0.0312 - accuracy: 0.9913 - val_loss: 0.0316 - val_accuracy: 0.9910\n",
      "Epoch 90/200\n",
      "12351/12351 [==============================] - 8s 663us/step - loss: 0.0311 - accuracy: 0.9914 - val_loss: 0.0318 - val_accuracy: 0.9917\n",
      "Epoch 91/200\n",
      "12351/12351 [==============================] - 8s 660us/step - loss: 0.0310 - accuracy: 0.9916 - val_loss: 0.0319 - val_accuracy: 0.9890\n",
      "Epoch 92/200\n",
      "12351/12351 [==============================] - 8s 654us/step - loss: 0.0309 - accuracy: 0.9917 - val_loss: 0.0315 - val_accuracy: 0.9919\n",
      "Epoch 93/200\n",
      "12351/12351 [==============================] - 8s 654us/step - loss: 0.0309 - accuracy: 0.9917 - val_loss: 0.0316 - val_accuracy: 0.9911\n",
      "Epoch 94/200\n",
      "12351/12351 [==============================] - 8s 643us/step - loss: 0.0307 - accuracy: 0.9918 - val_loss: 0.0324 - val_accuracy: 0.9886\n",
      "Epoch 95/200\n",
      "12351/12351 [==============================] - 8s 647us/step - loss: 0.0307 - accuracy: 0.9919 - val_loss: 0.0314 - val_accuracy: 0.9917\n",
      "Epoch 96/200\n",
      "12351/12351 [==============================] - 8s 652us/step - loss: 0.0306 - accuracy: 0.9920 - val_loss: 0.0312 - val_accuracy: 0.9920\n",
      "Epoch 97/200\n",
      "12351/12351 [==============================] - 8s 634us/step - loss: 0.0305 - accuracy: 0.9921 - val_loss: 0.0317 - val_accuracy: 0.9925\n",
      "Epoch 98/200\n",
      "12351/12351 [==============================] - 8s 651us/step - loss: 0.0304 - accuracy: 0.9921 - val_loss: 0.0311 - val_accuracy: 0.9922\n",
      "Epoch 99/200\n",
      "12351/12351 [==============================] - 8s 651us/step - loss: 0.0304 - accuracy: 0.9922 - val_loss: 0.0310 - val_accuracy: 0.9922\n",
      "Epoch 100/200\n",
      "12351/12351 [==============================] - 8s 651us/step - loss: 0.0303 - accuracy: 0.9922 - val_loss: 0.0313 - val_accuracy: 0.9913\n",
      "Epoch 101/200\n",
      "12351/12351 [==============================] - 8s 637us/step - loss: 0.0303 - accuracy: 0.9924 - val_loss: 0.0310 - val_accuracy: 0.9919\n",
      "Epoch 102/200\n",
      "12351/12351 [==============================] - 8s 684us/step - loss: 0.0302 - accuracy: 0.9925 - val_loss: 0.0309 - val_accuracy: 0.9919\n",
      "Epoch 103/200\n",
      "12351/12351 [==============================] - 8s 665us/step - loss: 0.0301 - accuracy: 0.9925 - val_loss: 0.0312 - val_accuracy: 0.9923\n",
      "Epoch 104/200\n",
      "12351/12351 [==============================] - 8s 631us/step - loss: 0.0301 - accuracy: 0.9927 - val_loss: 0.0308 - val_accuracy: 0.9926\n",
      "Epoch 105/200\n",
      "12351/12351 [==============================] - 8s 646us/step - loss: 0.0300 - accuracy: 0.9926 - val_loss: 0.0306 - val_accuracy: 0.9923\n",
      "Epoch 106/200\n",
      "12351/12351 [==============================] - 8s 647us/step - loss: 0.0300 - accuracy: 0.9927 - val_loss: 0.0306 - val_accuracy: 0.9929\n",
      "Epoch 107/200\n",
      "12351/12351 [==============================] - 8s 631us/step - loss: 0.0299 - accuracy: 0.9928 - val_loss: 0.0315 - val_accuracy: 0.9917\n",
      "Epoch 108/200\n",
      "12351/12351 [==============================] - 8s 621us/step - loss: 0.0298 - accuracy: 0.9929 - val_loss: 0.0305 - val_accuracy: 0.9932\n",
      "Epoch 109/200\n",
      "12351/12351 [==============================] - 8s 618us/step - loss: 0.0298 - accuracy: 0.9929 - val_loss: 0.0308 - val_accuracy: 0.9922\n",
      "Epoch 110/200\n"
     ]
    },
    {
     "name": "stdout",
     "output_type": "stream",
     "text": [
      "12351/12351 [==============================] - 8s 618us/step - loss: 0.0297 - accuracy: 0.9930 - val_loss: 0.0306 - val_accuracy: 0.9921\n",
      "Epoch 111/200\n",
      "12351/12351 [==============================] - 8s 618us/step - loss: 0.0297 - accuracy: 0.9929 - val_loss: 0.0303 - val_accuracy: 0.9927\n",
      "Epoch 112/200\n",
      "12351/12351 [==============================] - 7s 599us/step - loss: 0.0297 - accuracy: 0.9931 - val_loss: 0.0305 - val_accuracy: 0.9926\n",
      "Epoch 113/200\n",
      "12351/12351 [==============================] - 8s 613us/step - loss: 0.0296 - accuracy: 0.9932 - val_loss: 0.0303 - val_accuracy: 0.9926\n",
      "Epoch 114/200\n",
      "12351/12351 [==============================] - 7s 596us/step - loss: 0.0296 - accuracy: 0.9932 - val_loss: 0.0303 - val_accuracy: 0.9930\n",
      "Epoch 115/200\n",
      "12351/12351 [==============================] - 7s 607us/step - loss: 0.0295 - accuracy: 0.9932 - val_loss: 0.0305 - val_accuracy: 0.9934\n",
      "Epoch 116/200\n",
      "12351/12351 [==============================] - 7s 603us/step - loss: 0.0294 - accuracy: 0.9933 - val_loss: 0.0302 - val_accuracy: 0.9931\n",
      "Epoch 117/200\n",
      "12351/12351 [==============================] - 7s 604us/step - loss: 0.0294 - accuracy: 0.9932 - val_loss: 0.0319 - val_accuracy: 0.9898\n",
      "Epoch 118/200\n",
      "12351/12351 [==============================] - 8s 618us/step - loss: 0.0294 - accuracy: 0.9934 - val_loss: 0.0300 - val_accuracy: 0.9935\n",
      "Epoch 119/200\n",
      "12351/12351 [==============================] - 7s 601us/step - loss: 0.0293 - accuracy: 0.9933 - val_loss: 0.0300 - val_accuracy: 0.9935\n",
      "Epoch 120/200\n",
      "12351/12351 [==============================] - 8s 618us/step - loss: 0.0293 - accuracy: 0.9934 - val_loss: 0.0301 - val_accuracy: 0.9932\n",
      "Epoch 121/200\n",
      "12351/12351 [==============================] - 7s 604us/step - loss: 0.0292 - accuracy: 0.9935 - val_loss: 0.0308 - val_accuracy: 0.9929\n",
      "Epoch 122/200\n",
      "12351/12351 [==============================] - 8s 625us/step - loss: 0.0292 - accuracy: 0.9934 - val_loss: 0.0300 - val_accuracy: 0.9934\n",
      "Epoch 123/200\n",
      "12351/12351 [==============================] - 8s 622us/step - loss: 0.0292 - accuracy: 0.9936 - val_loss: 0.0299 - val_accuracy: 0.9935\n",
      "Epoch 124/200\n",
      "12351/12351 [==============================] - 8s 618us/step - loss: 0.0292 - accuracy: 0.9936 - val_loss: 0.0299 - val_accuracy: 0.9929\n",
      "Epoch 125/200\n",
      "12351/12351 [==============================] - 8s 616us/step - loss: 0.0291 - accuracy: 0.9936 - val_loss: 0.0300 - val_accuracy: 0.9929\n",
      "Epoch 126/200\n",
      "12351/12351 [==============================] - 8s 622us/step - loss: 0.0291 - accuracy: 0.9936 - val_loss: 0.0298 - val_accuracy: 0.9942\n",
      "Epoch 127/200\n",
      "12351/12351 [==============================] - 8s 618us/step - loss: 0.0290 - accuracy: 0.9937 - val_loss: 0.0304 - val_accuracy: 0.9927\n",
      "Epoch 128/200\n",
      "12351/12351 [==============================] - 8s 636us/step - loss: 0.0290 - accuracy: 0.9937 - val_loss: 0.0302 - val_accuracy: 0.9923\n",
      "Epoch 129/200\n",
      "12351/12351 [==============================] - 8s 633us/step - loss: 0.0290 - accuracy: 0.9937 - val_loss: 0.0297 - val_accuracy: 0.9939\n",
      "Epoch 130/200\n",
      "12351/12351 [==============================] - 8s 624us/step - loss: 0.0289 - accuracy: 0.9938 - val_loss: 0.0303 - val_accuracy: 0.9934\n",
      "Epoch 131/200\n",
      "12351/12351 [==============================] - 8s 618us/step - loss: 0.0289 - accuracy: 0.9939 - val_loss: 0.0302 - val_accuracy: 0.9928\n",
      "Epoch 132/200\n",
      "12351/12351 [==============================] - 8s 629us/step - loss: 0.0289 - accuracy: 0.9938 - val_loss: 0.0296 - val_accuracy: 0.9938\n",
      "Epoch 133/200\n",
      "12351/12351 [==============================] - 8s 622us/step - loss: 0.0288 - accuracy: 0.9938 - val_loss: 0.0304 - val_accuracy: 0.9925\n",
      "Epoch 134/200\n",
      "12351/12351 [==============================] - 8s 619us/step - loss: 0.0288 - accuracy: 0.9939 - val_loss: 0.0299 - val_accuracy: 0.9931\n",
      "Epoch 135/200\n",
      "12351/12351 [==============================] - 8s 623us/step - loss: 0.0287 - accuracy: 0.9939 - val_loss: 0.0303 - val_accuracy: 0.9931\n",
      "Epoch 136/200\n",
      "12351/12351 [==============================] - 8s 623us/step - loss: 0.0287 - accuracy: 0.9939 - val_loss: 0.0295 - val_accuracy: 0.9940\n",
      "Epoch 137/200\n",
      "12351/12351 [==============================] - 8s 619us/step - loss: 0.0287 - accuracy: 0.9940 - val_loss: 0.0295 - val_accuracy: 0.9941\n",
      "Epoch 138/200\n",
      "12351/12351 [==============================] - 8s 615us/step - loss: 0.0287 - accuracy: 0.9939 - val_loss: 0.0297 - val_accuracy: 0.9940\n",
      "Epoch 139/200\n",
      "12351/12351 [==============================] - 7s 606us/step - loss: 0.0286 - accuracy: 0.9941 - val_loss: 0.0294 - val_accuracy: 0.9939\n",
      "Epoch 140/200\n",
      "12351/12351 [==============================] - 8s 619us/step - loss: 0.0286 - accuracy: 0.9940 - val_loss: 0.0298 - val_accuracy: 0.9935\n",
      "Epoch 141/200\n",
      "12351/12351 [==============================] - 8s 618us/step - loss: 0.0286 - accuracy: 0.9941 - val_loss: 0.0294 - val_accuracy: 0.9944\n",
      "Epoch 142/200\n",
      "12351/12351 [==============================] - 8s 621us/step - loss: 0.0286 - accuracy: 0.9941 - val_loss: 0.0293 - val_accuracy: 0.9944\n",
      "Epoch 143/200\n",
      "12351/12351 [==============================] - 8s 617us/step - loss: 0.0285 - accuracy: 0.9941 - val_loss: 0.0295 - val_accuracy: 0.9944\n",
      "Epoch 144/200\n",
      "12351/12351 [==============================] - 7s 606us/step - loss: 0.0285 - accuracy: 0.9941 - val_loss: 0.0297 - val_accuracy: 0.9942\n",
      "Epoch 145/200\n",
      "12351/12351 [==============================] - 8s 615us/step - loss: 0.0285 - accuracy: 0.9941 - val_loss: 0.0293 - val_accuracy: 0.9946\n",
      "Epoch 146/200\n",
      "12351/12351 [==============================] - 8s 623us/step - loss: 0.0285 - accuracy: 0.9942 - val_loss: 0.0292 - val_accuracy: 0.9942\n",
      "Epoch 147/200\n",
      "12351/12351 [==============================] - 8s 620us/step - loss: 0.0284 - accuracy: 0.9942 - val_loss: 0.0293 - val_accuracy: 0.9940\n",
      "Epoch 148/200\n",
      "12351/12351 [==============================] - 8s 621us/step - loss: 0.0284 - accuracy: 0.9942 - val_loss: 0.0294 - val_accuracy: 0.9936\n",
      "Epoch 149/200\n",
      "12351/12351 [==============================] - 8s 620us/step - loss: 0.0284 - accuracy: 0.9942 - val_loss: 0.0298 - val_accuracy: 0.9931\n",
      "Epoch 150/200\n",
      "12351/12351 [==============================] - 8s 622us/step - loss: 0.0283 - accuracy: 0.9942 - val_loss: 0.0295 - val_accuracy: 0.9941\n",
      "Epoch 151/200\n",
      "12351/12351 [==============================] - 8s 619us/step - loss: 0.0283 - accuracy: 0.9942 - val_loss: 0.0291 - val_accuracy: 0.9944\n",
      "Epoch 152/200\n",
      "12351/12351 [==============================] - 8s 616us/step - loss: 0.0283 - accuracy: 0.9943 - val_loss: 0.0292 - val_accuracy: 0.9943\n",
      "Epoch 153/200\n",
      "12351/12351 [==============================] - 8s 619us/step - loss: 0.0283 - accuracy: 0.9942 - val_loss: 0.0292 - val_accuracy: 0.9942\n",
      "Epoch 154/200\n",
      "12351/12351 [==============================] - 8s 620us/step - loss: 0.0283 - accuracy: 0.9943 - val_loss: 0.0300 - val_accuracy: 0.9926\n",
      "Epoch 155/200\n",
      "12351/12351 [==============================] - 8s 607us/step - loss: 0.0282 - accuracy: 0.9943 - val_loss: 0.0292 - val_accuracy: 0.9937\n",
      "Epoch 156/200\n",
      "12351/12351 [==============================] - 8s 619us/step - loss: 0.0282 - accuracy: 0.9942 - val_loss: 0.0291 - val_accuracy: 0.9942\n",
      "Epoch 157/200\n",
      "12351/12351 [==============================] - 8s 612us/step - loss: 0.0282 - accuracy: 0.9943 - val_loss: 0.0290 - val_accuracy: 0.9940\n",
      "Epoch 158/200\n",
      "12351/12351 [==============================] - 8s 618us/step - loss: 0.0282 - accuracy: 0.9942 - val_loss: 0.0292 - val_accuracy: 0.9937\n",
      "Epoch 159/200\n",
      "12351/12351 [==============================] - 8s 617us/step - loss: 0.0282 - accuracy: 0.9943 - val_loss: 0.0289 - val_accuracy: 0.9947\n",
      "Epoch 160/200\n",
      "12351/12351 [==============================] - 8s 618us/step - loss: 0.0281 - accuracy: 0.9944 - val_loss: 0.0297 - val_accuracy: 0.9927\n",
      "Epoch 161/200\n",
      "12351/12351 [==============================] - 7s 603us/step - loss: 0.0281 - accuracy: 0.9944 - val_loss: 0.0291 - val_accuracy: 0.9939\n",
      "Epoch 162/200\n",
      "12351/12351 [==============================] - 8s 617us/step - loss: 0.0281 - accuracy: 0.9944 - val_loss: 0.0295 - val_accuracy: 0.9932\n",
      "Epoch 163/200\n",
      "12351/12351 [==============================] - 8s 617us/step - loss: 0.0281 - accuracy: 0.9945 - val_loss: 0.0290 - val_accuracy: 0.9939\n",
      "Epoch 164/200\n"
     ]
    },
    {
     "name": "stdout",
     "output_type": "stream",
     "text": [
      "12351/12351 [==============================] - 7s 602us/step - loss: 0.0280 - accuracy: 0.9944 - val_loss: 0.0287 - val_accuracy: 0.9948\n",
      "Epoch 165/200\n",
      "12351/12351 [==============================] - 8s 615us/step - loss: 0.0281 - accuracy: 0.9944 - val_loss: 0.0298 - val_accuracy: 0.9932\n",
      "Epoch 166/200\n",
      "12351/12351 [==============================] - 8s 619us/step - loss: 0.0280 - accuracy: 0.9944 - val_loss: 0.0290 - val_accuracy: 0.9942\n",
      "Epoch 167/200\n",
      "12351/12351 [==============================] - 7s 607us/step - loss: 0.0280 - accuracy: 0.9944 - val_loss: 0.0289 - val_accuracy: 0.9944\n",
      "Epoch 168/200\n",
      "12351/12351 [==============================] - 8s 616us/step - loss: 0.0280 - accuracy: 0.9943 - val_loss: 0.0288 - val_accuracy: 0.9944\n",
      "Epoch 169/200\n",
      "12351/12351 [==============================] - 8s 615us/step - loss: 0.0280 - accuracy: 0.9946 - val_loss: 0.0294 - val_accuracy: 0.9938\n",
      "Epoch 170/200\n",
      "12351/12351 [==============================] - 8s 612us/step - loss: 0.0279 - accuracy: 0.9945 - val_loss: 0.0294 - val_accuracy: 0.9937\n",
      "Epoch 171/200\n",
      "12351/12351 [==============================] - 8s 631us/step - loss: 0.0279 - accuracy: 0.9945 - val_loss: 0.0287 - val_accuracy: 0.9948\n",
      "Epoch 172/200\n",
      "12351/12351 [==============================] - 8s 615us/step - loss: 0.0279 - accuracy: 0.9945 - val_loss: 0.0288 - val_accuracy: 0.9935\n",
      "Epoch 173/200\n",
      "12351/12351 [==============================] - 8s 614us/step - loss: 0.0279 - accuracy: 0.9945 - val_loss: 0.0287 - val_accuracy: 0.9945\n",
      "Epoch 174/200\n",
      "12351/12351 [==============================] - 8s 608us/step - loss: 0.0279 - accuracy: 0.9945 - val_loss: 0.0288 - val_accuracy: 0.9945\n",
      "Epoch 175/200\n",
      "12351/12351 [==============================] - 8s 616us/step - loss: 0.0279 - accuracy: 0.9945 - val_loss: 0.0286 - val_accuracy: 0.9946\n",
      "Epoch 176/200\n",
      "12351/12351 [==============================] - 8s 617us/step - loss: 0.0278 - accuracy: 0.9945 - val_loss: 0.0287 - val_accuracy: 0.9943\n",
      "Epoch 177/200\n",
      "12351/12351 [==============================] - 8s 614us/step - loss: 0.0278 - accuracy: 0.9945 - val_loss: 0.0286 - val_accuracy: 0.9944\n",
      "Epoch 178/200\n",
      "12351/12351 [==============================] - 8s 613us/step - loss: 0.0278 - accuracy: 0.9946 - val_loss: 0.0286 - val_accuracy: 0.9946\n",
      "Epoch 179/200\n",
      "12351/12351 [==============================] - 7s 604us/step - loss: 0.0278 - accuracy: 0.9945 - val_loss: 0.0287 - val_accuracy: 0.9944\n",
      "Epoch 180/200\n",
      "12351/12351 [==============================] - 8s 619us/step - loss: 0.0278 - accuracy: 0.9946 - val_loss: 0.0285 - val_accuracy: 0.9945\n",
      "Epoch 181/200\n",
      "12351/12351 [==============================] - 8s 618us/step - loss: 0.0278 - accuracy: 0.9946 - val_loss: 0.0345 - val_accuracy: 0.9918\n",
      "Epoch 182/200\n",
      "12351/12351 [==============================] - 8s 607us/step - loss: 0.0277 - accuracy: 0.9946 - val_loss: 0.0292 - val_accuracy: 0.9942\n",
      "Epoch 183/200\n",
      "12351/12351 [==============================] - 8s 620us/step - loss: 0.0277 - accuracy: 0.9946 - val_loss: 0.0285 - val_accuracy: 0.9944\n",
      "Epoch 184/200\n",
      "12351/12351 [==============================] - 8s 614us/step - loss: 0.0277 - accuracy: 0.9947 - val_loss: 0.0287 - val_accuracy: 0.9944\n",
      "Epoch 185/200\n",
      "12351/12351 [==============================] - 7s 600us/step - loss: 0.0277 - accuracy: 0.9946 - val_loss: 0.0287 - val_accuracy: 0.9947\n",
      "Epoch 186/200\n",
      "12351/12351 [==============================] - 8s 614us/step - loss: 0.0277 - accuracy: 0.9946 - val_loss: 0.0284 - val_accuracy: 0.9948\n",
      "Epoch 187/200\n",
      "12351/12351 [==============================] - 7s 603us/step - loss: 0.0276 - accuracy: 0.9946 - val_loss: 0.0290 - val_accuracy: 0.9938\n",
      "Epoch 188/200\n",
      "12351/12351 [==============================] - 8s 615us/step - loss: 0.0276 - accuracy: 0.9947 - val_loss: 0.0287 - val_accuracy: 0.9941\n",
      "Epoch 189/200\n",
      "12351/12351 [==============================] - 8s 615us/step - loss: 0.0276 - accuracy: 0.9946 - val_loss: 0.0291 - val_accuracy: 0.9934\n",
      "Epoch 190/200\n",
      "12351/12351 [==============================] - 8s 611us/step - loss: 0.0276 - accuracy: 0.9947 - val_loss: 0.0285 - val_accuracy: 0.9946\n",
      "Epoch 191/200\n",
      "12351/12351 [==============================] - 8s 623us/step - loss: 0.0276 - accuracy: 0.9947 - val_loss: 0.0284 - val_accuracy: 0.9946\n",
      "Epoch 192/200\n",
      "12351/12351 [==============================] - 8s 619us/step - loss: 0.0276 - accuracy: 0.9946 - val_loss: 0.0285 - val_accuracy: 0.9944\n",
      "Epoch 193/200\n",
      "12351/12351 [==============================] - 8s 618us/step - loss: 0.0275 - accuracy: 0.9946 - val_loss: 0.0283 - val_accuracy: 0.9948\n",
      "Epoch 194/200\n",
      "12351/12351 [==============================] - 8s 616us/step - loss: 0.0275 - accuracy: 0.9947 - val_loss: 0.0284 - val_accuracy: 0.9945\n",
      "Epoch 195/200\n",
      "12351/12351 [==============================] - 7s 602us/step - loss: 0.0275 - accuracy: 0.9947 - val_loss: 0.0283 - val_accuracy: 0.9949\n",
      "Epoch 196/200\n",
      "12351/12351 [==============================] - 8s 613us/step - loss: 0.0275 - accuracy: 0.9947 - val_loss: 0.0283 - val_accuracy: 0.9949\n",
      "Epoch 197/200\n",
      "12351/12351 [==============================] - 8s 614us/step - loss: 0.0276 - accuracy: 0.9946 - val_loss: 0.0283 - val_accuracy: 0.9950\n",
      "Epoch 198/200\n",
      "12351/12351 [==============================] - 8s 609us/step - loss: 0.0275 - accuracy: 0.9947 - val_loss: 0.0283 - val_accuracy: 0.9949\n",
      "Epoch 199/200\n",
      "12351/12351 [==============================] - 8s 614us/step - loss: 0.0275 - accuracy: 0.9947 - val_loss: 0.0285 - val_accuracy: 0.9946\n",
      "Epoch 200/200\n",
      "12351/12351 [==============================] - 7s 600us/step - loss: 0.0275 - accuracy: 0.9947 - val_loss: 0.0290 - val_accuracy: 0.9939\n"
     ]
    }
   ],
   "source": [
    "start_time = time.time()\n",
    "\n",
    "history = model.fit(x=train_samples,\n",
    "                    y=train_labels,\n",
    "                    epochs=EPOCHS,\n",
    "                    validation_data=(test_samples, test_labels),\n",
    "                    verbose=VERBOSE)\n",
    "end_time = time.time()"
   ]
  },
  {
   "cell_type": "code",
   "execution_count": 55,
   "metadata": {
    "ExecuteTime": {
     "end_time": "2020-12-01T00:40:58.584795Z",
     "start_time": "2020-12-01T00:40:56.821611Z"
    }
   },
   "outputs": [
    {
     "name": "stdout",
     "output_type": "stream",
     "text": [
      "3088/3088 [==============================] - 2s 503us/step - loss: 0.0290 - accuracy: 0.9939\n"
     ]
    }
   ],
   "source": [
    "# Teste do modelo\n",
    "h2 = model.evaluate(\n",
    "x=test_samples , y=test_labels , verbose=VERBOSE ,\n",
    ")"
   ]
  },
  {
   "cell_type": "code",
   "execution_count": 56,
   "metadata": {
    "ExecuteTime": {
     "end_time": "2020-12-01T00:40:59.433999Z",
     "start_time": "2020-12-01T00:40:59.123999Z"
    }
   },
   "outputs": [
    {
     "data": {
      "image/png": "[encoded data removed]",
      "text/plain": [
       "<Figure size 720x360 with 1 Axes>"
      ]
     },
     "metadata": {
      "needs_background": "light"
     },
     "output_type": "display_data"
    },
    {
     "data": {
      "image/png": "[encoded data removed]",
      "text/plain": [
       "<Figure size 720x360 with 1 Axes>"
      ]
     },
     "metadata": {
      "needs_background": "light"
     },
     "output_type": "display_data"
    }
   ],
   "source": [
    "# plot_model(model, to_file=’model.png’)\n",
    "# Plot training & validation accuracy values\n",
    "plt.figure(figsize=(10,5))\n",
    "plt.plot(history.history['accuracy']) \n",
    "plt.plot(history.history['val_accuracy']) \n",
    "plt.title('Model accuracy')\n",
    "plt.ylabel('Accuracy')\n",
    "plt.xlabel('Epoch')\n",
    "plt.legend(['Train', 'Test'], loc='upper left')\n",
    "plt.show()\n",
    "\n",
    "# Plot training & validation loss values\n",
    "plt.figure(figsize=(10,5)) \n",
    "plt.plot(history.history['loss']) \n",
    "plt.plot(history.history['val_loss'])\n",
    "plt.title('Model loss') \n",
    "plt.ylabel('Loss') \n",
    "plt.xlabel('Epoch')\n",
    "plt.legend(['Train', 'Test'], loc='upper left') \n",
    "plt.show()"
   ]
  },
  {
   "cell_type": "code",
   "execution_count": 57,
   "metadata": {
    "ExecuteTime": {
     "end_time": "2020-12-01T00:41:08.835801Z",
     "start_time": "2020-12-01T00:41:08.685426Z"
    }
   },
   "outputs": [
    {
     "name": "stdout",
     "output_type": "stream",
     "text": [
      "Minimum Validation Loss: 0.0283\n"
     ]
    },
    {
     "data": {
      "image/png": "[encoded data removed]",
      "text/plain": [
       "<Figure size 432x288 with 1 Axes>"
      ]
     },
     "metadata": {
      "needs_background": "light"
     },
     "output_type": "display_data"
    }
   ],
   "source": [
    "# Abrir um pouco o gráfico\n",
    "history_df = pd.DataFrame(history.history)\n",
    "history_df.loc[80:, ['loss', 'val_loss']].plot()\n",
    "print(\"Minimum Validation Loss: {:0.4f}\".format(history_df['val_loss'].min()));"
   ]
  },
  {
   "cell_type": "markdown",
   "metadata": {},
   "source": [
    "`Uma única camada e um único nó parece que leva o modelo a \"Underfitting\", pois o gap entre as curvas é muito pequena e a curva de validation-loss nunca \"sobe\". Em relação ao tempo, demorou muito (Aprox. 26'), pois os dados eram utilizados um a um em vez de em batches.`"
   ]
  },
  {
   "cell_type": "markdown",
   "metadata": {},
   "source": [
    "### Treinamento do modelo básico, incluindo Batch"
   ]
  },
  {
   "cell_type": "code",
   "execution_count": 66,
   "metadata": {
    "ExecuteTime": {
     "end_time": "2020-12-01T18:02:23.727103Z",
     "start_time": "2020-12-01T18:02:23.724637Z"
    }
   },
   "outputs": [],
   "source": [
    "# vamos analisar os gráficos, então não será necessário ver resultados epoch por epoch \n",
    "VERBOSE=0"
   ]
  },
  {
   "cell_type": "code",
   "execution_count": 67,
   "metadata": {
    "ExecuteTime": {
     "end_time": "2020-12-01T18:02:26.799849Z",
     "start_time": "2020-12-01T18:02:26.779904Z"
    }
   },
   "outputs": [],
   "source": [
    "model = Sequential([\n",
    "    Dense(1, input_shape=input_shape, activation=ACTIVATION_FN),\n",
    "    Dense(len(attack_values), activation='softmax'), ])"
   ]
  },
  {
   "cell_type": "code",
   "execution_count": 68,
   "metadata": {
    "ExecuteTime": {
     "end_time": "2020-12-01T18:02:27.518936Z",
     "start_time": "2020-12-01T18:02:27.509966Z"
    }
   },
   "outputs": [],
   "source": [
    "model.compile(optimizer=sgd,\n",
    "              loss='categorical_crossentropy',\n",
    "              metrics=['accuracy'])"
   ]
  },
  {
   "cell_type": "code",
   "execution_count": 69,
   "metadata": {
    "ExecuteTime": {
     "end_time": "2020-12-01T18:03:52.902431Z",
     "start_time": "2020-12-01T18:02:29.448726Z"
    },
    "scrolled": true
   },
   "outputs": [],
   "source": [
    "start_time = time.time()\n",
    "\n",
    "history = model.fit(x=train_samples,\n",
    "                    y=train_labels,\n",
    "                    batch_size=BATCH_SIZE,\n",
    "                    epochs=EPOCHS,\n",
    "                    verbose=VERBOSE,\n",
    "                    validation_data=(test_samples, test_labels))\n",
    "end_time = time.time()"
   ]
  },
  {
   "cell_type": "code",
   "execution_count": 73,
   "metadata": {
    "ExecuteTime": {
     "end_time": "2020-12-01T18:05:45.799465Z",
     "start_time": "2020-12-01T18:05:44.208617Z"
    }
   },
   "outputs": [
    {
     "name": "stdout",
     "output_type": "stream",
     "text": [
      "3088/3088 [==============================] - 1s 447us/step - loss: 0.0598 - accuracy: 0.9840\n"
     ]
    }
   ],
   "source": [
    "# Teste do modelo\n",
    "h2 = model.evaluate(\n",
    "    x=test_samples,\n",
    "    y=test_labels,\n",
    "    verbose=1,\n",
    ")"
   ]
  },
  {
   "cell_type": "code",
   "execution_count": 76,
   "metadata": {
    "ExecuteTime": {
     "end_time": "2020-12-01T18:09:17.114862Z",
     "start_time": "2020-12-01T18:09:17.111539Z"
    }
   },
   "outputs": [
    {
     "name": "stdout",
     "output_type": "stream",
     "text": [
      "Tempo de treinamento: 83s\n"
     ]
    }
   ],
   "source": [
    "print(\"Tempo de treinamento: {}s\".format(round(end_time-start_time)))"
   ]
  },
  {
   "cell_type": "code",
   "execution_count": 77,
   "metadata": {
    "ExecuteTime": {
     "end_time": "2020-12-01T18:11:33.888079Z",
     "start_time": "2020-12-01T18:11:33.881308Z"
    }
   },
   "outputs": [],
   "source": [
    "def plot_train_val_accuracy_loss(history):\n",
    "    plt.figure(figsize=(10,5))\n",
    "    plt.plot(history.history['accuracy']) \n",
    "    plt.plot(history.history['val_accuracy']) \n",
    "    plt.title('Model accuracy')\n",
    "    plt.ylabel('Accuracy')\n",
    "    plt.xlabel('Epoch')\n",
    "    plt.legend(['Train', 'Test'], loc='upper left')\n",
    "    plt.show()\n",
    "\n",
    "    # Plot training & validation loss values\n",
    "    plt.figure(figsize=(10,5)) \n",
    "    plt.plot(history.history['loss']) \n",
    "    plt.plot(history.history['val_loss'])\n",
    "    plt.title('Model loss') \n",
    "    plt.ylabel('Loss') \n",
    "    plt.xlabel('Epoch')\n",
    "    plt.legend(['Train', 'Test'], loc='upper left') \n",
    "    plt.show()"
   ]
  },
  {
   "cell_type": "code",
   "execution_count": 78,
   "metadata": {
    "ExecuteTime": {
     "end_time": "2020-12-01T18:11:50.507756Z",
     "start_time": "2020-12-01T18:11:50.246513Z"
    }
   },
   "outputs": [
    {
     "data": {
      "image/png": "[encoded data removed]",
      "text/plain": [
       "<Figure size 720x360 with 1 Axes>"
      ]
     },
     "metadata": {
      "needs_background": "light"
     },
     "output_type": "display_data"
    },
    {
     "data": {
      "image/png": "[encoded data removed]",
      "text/plain": [
       "<Figure size 720x360 with 1 Axes>"
      ]
     },
     "metadata": {
      "needs_background": "light"
     },
     "output_type": "display_data"
    }
   ],
   "source": [
    "plot_train_val_accuracy_loss(history)"
   ]
  },
  {
   "cell_type": "markdown",
   "metadata": {},
   "source": [
    "`Apesar de muito mais rápido (o modelo levou apenas 83s, claramante houve underfitting.`"
   ]
  },
  {
   "cell_type": "markdown",
   "metadata": {},
   "source": [
    "## Treinar modelo com mais nós"
   ]
  },
  {
   "cell_type": "code",
   "execution_count": 79,
   "metadata": {
    "ExecuteTime": {
     "end_time": "2020-12-01T18:15:39.703106Z",
     "start_time": "2020-12-01T18:15:39.677133Z"
    }
   },
   "outputs": [],
   "source": [
    "model = Sequential([\n",
    "    Dense(128, input_shape=input_shape, activation=ACTIVATION_FN),\n",
    "    Dense(len(attack_values), activation='softmax'), ])\n",
    "\n",
    "model.compile(optimizer=sgd,\n",
    "              loss='categorical_crossentropy',\n",
    "              metrics=['accuracy'])"
   ]
  },
  {
   "cell_type": "code",
   "execution_count": 80,
   "metadata": {
    "ExecuteTime": {
     "end_time": "2020-12-01T18:19:13.333766Z",
     "start_time": "2020-12-01T18:16:57.526343Z"
    }
   },
   "outputs": [
    {
     "name": "stdout",
     "output_type": "stream",
     "text": [
      "Tempo de treinamento: 136s\n"
     ]
    }
   ],
   "source": [
    "start_time = time.time()\n",
    "\n",
    "history = model.fit(x=train_samples,\n",
    "                    y=train_labels,\n",
    "                    batch_size=BATCH_SIZE,\n",
    "                    epochs=EPOCHS,\n",
    "                    verbose=VERBOSE,\n",
    "                    validation_data=(test_samples, test_labels))\n",
    "end_time = time.time()\n",
    "print(\"Tempo de treinamento: {}s\".format(round(end_time-start_time)))"
   ]
  },
  {
   "cell_type": "code",
   "execution_count": 81,
   "metadata": {
    "ExecuteTime": {
     "end_time": "2020-12-01T18:19:22.035775Z",
     "start_time": "2020-12-01T18:19:20.376724Z"
    }
   },
   "outputs": [
    {
     "name": "stdout",
     "output_type": "stream",
     "text": [
      "3088/3088 [==============================] - 1s 468us/step - loss: 0.0200 - accuracy: 0.9941\n"
     ]
    }
   ],
   "source": [
    "# Teste do modelo\n",
    "h2 = model.evaluate(\n",
    "    x=test_samples,\n",
    "    y=test_labels,\n",
    "    verbose=1,\n",
    ")"
   ]
  },
  {
   "cell_type": "code",
   "execution_count": 82,
   "metadata": {
    "ExecuteTime": {
     "end_time": "2020-12-01T18:19:24.569893Z",
     "start_time": "2020-12-01T18:19:24.274715Z"
    }
   },
   "outputs": [
    {
     "data": {
      "image/png": "[encoded data removed]",
      "text/plain": [
       "<Figure size 720x360 with 1 Axes>"
      ]
     },
     "metadata": {
      "needs_background": "light"
     },
     "output_type": "display_data"
    },
    {
     "data": {
      "image/png": "[encoded data removed]",
      "text/plain": [
       "<Figure size 720x360 with 1 Axes>"
      ]
     },
     "metadata": {
      "needs_background": "light"
     },
     "output_type": "display_data"
    }
   ],
   "source": [
    "plot_train_val_accuracy_loss(history)"
   ]
  },
  {
   "cell_type": "markdown",
   "metadata": {},
   "source": [
    "`Uma única camada mesmo de muitos nós parece que leva o modelo a \"Underfitting\", pois o gap entre as curvas é muito pequena e a curva de validation-loss nunca \"sobe\"`"
   ]
  },
  {
   "cell_type": "markdown",
   "metadata": {},
   "source": [
    "## Treinar modelo com mais camadas"
   ]
  },
  {
   "cell_type": "code",
   "execution_count": 84,
   "metadata": {
    "ExecuteTime": {
     "end_time": "2020-12-01T18:23:10.338478Z",
     "start_time": "2020-12-01T18:23:10.305038Z"
    }
   },
   "outputs": [
    {
     "name": "stdout",
     "output_type": "stream",
     "text": [
      "Model: \"sequential_5\"\n",
      "_________________________________________________________________\n",
      "Layer (type)                 Output Shape              Param #   \n",
      "=================================================================\n",
      "dense_11 (Dense)             (None, 128)               15488     \n",
      "_________________________________________________________________\n",
      "dense_12 (Dense)             (None, 1)                 129       \n",
      "_________________________________________________________________\n",
      "dense_13 (Dense)             (None, 5)                 10        \n",
      "=================================================================\n",
      "Total params: 15,627\n",
      "Trainable params: 15,627\n",
      "Non-trainable params: 0\n",
      "_________________________________________________________________\n"
     ]
    }
   ],
   "source": [
    "model = Sequential([\n",
    "    Dense(128, input_shape=input_shape, activation=ACTIVATION_FN),\n",
    "    Dense(1, input_shape=input_shape, activation=ACTIVATION_FN),\n",
    "    Dense(len(attack_values), activation='softmax'), ])\n",
    "\n",
    "model.compile(optimizer=sgd,\n",
    "              loss='categorical_crossentropy',\n",
    "              metrics=['accuracy'])\n",
    "model.summary()"
   ]
  },
  {
   "cell_type": "code",
   "execution_count": 85,
   "metadata": {
    "ExecuteTime": {
     "end_time": "2020-12-01T18:25:51.969627Z",
     "start_time": "2020-12-01T18:23:32.792934Z"
    }
   },
   "outputs": [
    {
     "name": "stdout",
     "output_type": "stream",
     "text": [
      "Tempo de treinamento: 139s\n"
     ]
    }
   ],
   "source": [
    "start_time = time.time()\n",
    "\n",
    "history = model.fit(x=train_samples,\n",
    "                    y=train_labels,\n",
    "                    batch_size=BATCH_SIZE,\n",
    "                    epochs=EPOCHS,\n",
    "                    verbose=VERBOSE,\n",
    "                    validation_data=(test_samples, test_labels))\n",
    "end_time = time.time()\n",
    "print(\"Tempo de treinamento: {}s\".format(round(end_time-start_time)))"
   ]
  },
  {
   "cell_type": "code",
   "execution_count": 86,
   "metadata": {
    "ExecuteTime": {
     "end_time": "2020-12-01T18:25:54.134820Z",
     "start_time": "2020-12-01T18:25:52.571699Z"
    }
   },
   "outputs": [
    {
     "name": "stdout",
     "output_type": "stream",
     "text": [
      "3088/3088 [==============================] - 1s 440us/step - loss: 0.4817 - accuracy: 0.7981\n"
     ]
    }
   ],
   "source": [
    "# Teste do modelo\n",
    "h2 = model.evaluate(\n",
    "    x=test_samples,\n",
    "    y=test_labels,\n",
    "    verbose=1,\n",
    ")"
   ]
  },
  {
   "cell_type": "code",
   "execution_count": 87,
   "metadata": {
    "ExecuteTime": {
     "end_time": "2020-12-01T18:25:54.972740Z",
     "start_time": "2020-12-01T18:25:54.696535Z"
    }
   },
   "outputs": [
    {
     "data": {
      "image/png": "[encoded data removed]",
      "text/plain": [
       "<Figure size 720x360 with 1 Axes>"
      ]
     },
     "metadata": {
      "needs_background": "light"
     },
     "output_type": "display_data"
    },
    {
     "data": {
      "image/png": "[encoded data removed]",
      "text/plain": [
       "<Figure size 720x360 with 1 Axes>"
      ]
     },
     "metadata": {
      "needs_background": "light"
     },
     "output_type": "display_data"
    }
   ],
   "source": [
    "plot_train_val_accuracy_loss(history)"
   ]
  },
  {
   "cell_type": "code",
   "execution_count": 88,
   "metadata": {
    "ExecuteTime": {
     "end_time": "2020-12-01T18:28:47.507072Z",
     "start_time": "2020-12-01T18:28:47.369878Z"
    }
   },
   "outputs": [
    {
     "name": "stdout",
     "output_type": "stream",
     "text": [
      "Minimum Validation Loss: 0.4817\n"
     ]
    },
    {
     "data": {
      "image/png": "[encoded data removed]",
      "text/plain": [
       "<Figure size 432x288 with 1 Axes>"
      ]
     },
     "metadata": {
      "needs_background": "light"
     },
     "output_type": "display_data"
    }
   ],
   "source": [
    "# Abrir um pouco o gráfico\n",
    "history_df = pd.DataFrame(history.history)\n",
    "history_df.loc[80:, ['loss', 'val_loss']].plot()\n",
    "print(\"Minimum Validation Loss: {:0.4f}\".format(history_df['val_loss'].min()));"
   ]
  },
  {
   "cell_type": "markdown",
   "metadata": {},
   "source": [
    "`Uma camada adicional mesmo com 1 nó somente parece que resolveu o problema de \"Underfitting\". Vamos verificar com mais nós.`"
   ]
  },
  {
   "cell_type": "code",
   "execution_count": 89,
   "metadata": {
    "ExecuteTime": {
     "end_time": "2020-12-01T18:31:42.544955Z",
     "start_time": "2020-12-01T18:31:42.512579Z"
    }
   },
   "outputs": [
    {
     "name": "stdout",
     "output_type": "stream",
     "text": [
      "Model: \"sequential_6\"\n",
      "_________________________________________________________________\n",
      "Layer (type)                 Output Shape              Param #   \n",
      "=================================================================\n",
      "dense_14 (Dense)             (None, 128)               15488     \n",
      "_________________________________________________________________\n",
      "dense_15 (Dense)             (None, 128)               16512     \n",
      "_________________________________________________________________\n",
      "dense_16 (Dense)             (None, 5)                 645       \n",
      "=================================================================\n",
      "Total params: 32,645\n",
      "Trainable params: 32,645\n",
      "Non-trainable params: 0\n",
      "_________________________________________________________________\n"
     ]
    }
   ],
   "source": [
    "model = Sequential([\n",
    "    Dense(128, input_shape=input_shape, activation=ACTIVATION_FN),\n",
    "    Dense(128, input_shape=input_shape, activation=ACTIVATION_FN),\n",
    "    Dense(len(attack_values), activation='softmax'), ])\n",
    "\n",
    "model.compile(optimizer=sgd,\n",
    "              loss='categorical_crossentropy',\n",
    "              metrics=['accuracy'])\n",
    "model.summary()"
   ]
  },
  {
   "cell_type": "code",
   "execution_count": 90,
   "metadata": {
    "ExecuteTime": {
     "end_time": "2020-12-01T18:35:57.427072Z",
     "start_time": "2020-12-01T18:31:56.158823Z"
    }
   },
   "outputs": [
    {
     "name": "stdout",
     "output_type": "stream",
     "text": [
      "Tempo de treinamento: 241s\n"
     ]
    }
   ],
   "source": [
    "start_time = time.time()\n",
    "\n",
    "history = model.fit(x=train_samples,\n",
    "                    y=train_labels,\n",
    "                    batch_size=BATCH_SIZE,\n",
    "                    epochs=EPOCHS,\n",
    "                    verbose=VERBOSE,\n",
    "                    validation_data=(test_samples, test_labels))\n",
    "end_time = time.time()\n",
    "print(\"Tempo de treinamento: {}s\".format(round(end_time-start_time)))"
   ]
  },
  {
   "cell_type": "code",
   "execution_count": 91,
   "metadata": {
    "ExecuteTime": {
     "end_time": "2020-12-01T18:36:00.381328Z",
     "start_time": "2020-12-01T18:35:58.095351Z"
    }
   },
   "outputs": [
    {
     "name": "stdout",
     "output_type": "stream",
     "text": [
      "3088/3088 [==============================] - 2s 667us/step - loss: 0.0118 - accuracy: 0.9959\n"
     ]
    }
   ],
   "source": [
    "# Teste do modelo\n",
    "h2 = model.evaluate(\n",
    "    x=test_samples,\n",
    "    y=test_labels,\n",
    "    verbose=1,\n",
    ")"
   ]
  },
  {
   "cell_type": "code",
   "execution_count": 92,
   "metadata": {
    "ExecuteTime": {
     "end_time": "2020-12-01T18:36:01.285822Z",
     "start_time": "2020-12-01T18:36:00.959251Z"
    }
   },
   "outputs": [
    {
     "data": {
      "image/png": "[encoded data removed]",
      "text/plain": [
       "<Figure size 720x360 with 1 Axes>"
      ]
     },
     "metadata": {
      "needs_background": "light"
     },
     "output_type": "display_data"
    },
    {
     "data": {
      "image/png": "[encoded data removed]",
      "text/plain": [
       "<Figure size 720x360 with 1 Axes>"
      ]
     },
     "metadata": {
      "needs_background": "light"
     },
     "output_type": "display_data"
    }
   ],
   "source": [
    "plot_train_val_accuracy_loss(history)"
   ]
  },
  {
   "cell_type": "code",
   "execution_count": 93,
   "metadata": {
    "ExecuteTime": {
     "end_time": "2020-12-01T18:36:38.457560Z",
     "start_time": "2020-12-01T18:36:38.314568Z"
    }
   },
   "outputs": [
    {
     "name": "stdout",
     "output_type": "stream",
     "text": [
      "Minimum Validation Loss: 0.0118\n"
     ]
    },
    {
     "data": {
      "image/png": "[encoded data removed]",
      "text/plain": [
       "<Figure size 432x288 with 1 Axes>"
      ]
     },
     "metadata": {
      "needs_background": "light"
     },
     "output_type": "display_data"
    }
   ],
   "source": [
    "# Abrir um pouco o gráfico\n",
    "history_df = pd.DataFrame(history.history)\n",
    "history_df.loc[80:, ['loss', 'val_loss']].plot()\n",
    "print(\"Minimum Validation Loss: {:0.4f}\".format(history_df['val_loss'].min()));"
   ]
  },
  {
   "cell_type": "markdown",
   "metadata": {},
   "source": [
    "`Existe um claro problema aqui. Validation Loss é menor que o Training loss. Muito provavelmente é porque os dados de validação não são representativos (Dados de validação são \"mais fáceis\" que os de treinamento (ver Aurélien Geron twitter: https://twitter.com/aureliengeron/status/1110839223878184960). Lembre-se que havia um desbalanceamanto muito grande de classes. Talvez outros métodos devam ser utilizados para separar train e validation.`"
   ]
  },
  {
   "cell_type": "markdown",
   "metadata": {},
   "source": [
    "### Tentar aumentar número de Epocas"
   ]
  },
  {
   "cell_type": "code",
   "execution_count": 96,
   "metadata": {
    "ExecuteTime": {
     "end_time": "2020-12-01T18:52:55.370467Z",
     "start_time": "2020-12-01T18:52:55.367827Z"
    }
   },
   "outputs": [],
   "source": [
    "EPOCHS = 1000"
   ]
  },
  {
   "cell_type": "code",
   "execution_count": 95,
   "metadata": {
    "ExecuteTime": {
     "end_time": "2020-12-01T18:52:32.053966Z",
     "start_time": "2020-12-01T18:52:32.021867Z"
    }
   },
   "outputs": [],
   "source": [
    "model = Sequential([\n",
    "    Dense(128, input_shape=input_shape, activation=ACTIVATION_FN),\n",
    "    Dense(128, input_shape=input_shape, activation=ACTIVATION_FN),\n",
    "    Dense(len(attack_values), activation='softmax'), ])\n",
    "\n",
    "model.compile(optimizer=sgd,\n",
    "              loss='categorical_crossentropy',\n",
    "              metrics=['accuracy'])"
   ]
  },
  {
   "cell_type": "code",
   "execution_count": 97,
   "metadata": {
    "ExecuteTime": {
     "end_time": "2020-12-01T19:14:31.888776Z",
     "start_time": "2020-12-01T18:53:00.587627Z"
    }
   },
   "outputs": [
    {
     "name": "stdout",
     "output_type": "stream",
     "text": [
      "Tempo de treinamento: 1291s\n"
     ]
    }
   ],
   "source": [
    "start_time = time.time()\n",
    "\n",
    "history = model.fit(x=train_samples,\n",
    "                    y=train_labels,\n",
    "                    batch_size=BATCH_SIZE,\n",
    "                    epochs=EPOCHS,\n",
    "                    verbose=VERBOSE,\n",
    "                    validation_data=(test_samples, test_labels))\n",
    "end_time = time.time()\n",
    "print(\"Tempo de treinamento: {}s\".format(round(end_time-start_time)))"
   ]
  },
  {
   "cell_type": "code",
   "execution_count": 98,
   "metadata": {
    "ExecuteTime": {
     "end_time": "2020-12-01T19:14:35.317780Z",
     "start_time": "2020-12-01T19:14:32.552863Z"
    }
   },
   "outputs": [
    {
     "name": "stdout",
     "output_type": "stream",
     "text": [
      "3088/3088 [==============================] - 2s 709us/step - loss: 0.0034 - accuracy: 0.9992\n"
     ]
    },
    {
     "data": {
      "image/png": "[encoded data removed]",
      "text/plain": [
       "<Figure size 720x360 with 1 Axes>"
      ]
     },
     "metadata": {
      "needs_background": "light"
     },
     "output_type": "display_data"
    },
    {
     "data": {
      "image/png": "[encoded data removed]",
      "text/plain": [
       "<Figure size 720x360 with 1 Axes>"
      ]
     },
     "metadata": {
      "needs_background": "light"
     },
     "output_type": "display_data"
    }
   ],
   "source": [
    "# Teste do modelo\n",
    "h2 = model.evaluate(\n",
    "    x=test_samples,\n",
    "    y=test_labels,\n",
    "    verbose=1,\n",
    ")\n",
    "\n",
    "plot_train_val_accuracy_loss(history)"
   ]
  },
  {
   "cell_type": "code",
   "execution_count": 114,
   "metadata": {
    "ExecuteTime": {
     "end_time": "2020-12-01T19:38:02.866443Z",
     "start_time": "2020-12-01T19:38:02.862491Z"
    }
   },
   "outputs": [],
   "source": [
    "# Abrir um pouco o gráfico\n",
    "def zoom_loss_graph(history, start=80):\n",
    "    history_df = pd.DataFrame(history.history)\n",
    "    history_df.loc[start:, ['loss', 'val_loss']].plot()\n",
    "    print(\"Minimum Validation Loss: {:0.4f}\".format(history_df['val_loss'].min()));"
   ]
  },
  {
   "cell_type": "code",
   "execution_count": 103,
   "metadata": {
    "ExecuteTime": {
     "end_time": "2020-12-01T19:21:54.600057Z",
     "start_time": "2020-12-01T19:21:54.438944Z"
    }
   },
   "outputs": [
    {
     "name": "stdout",
     "output_type": "stream",
     "text": [
      "Minimum Validation Loss: 0.0034\n"
     ]
    },
    {
     "data": {
      "image/png": "[encoded data removed]",
      "text/plain": [
       "<Figure size 432x288 with 1 Axes>"
      ]
     },
     "metadata": {
      "needs_background": "light"
     },
     "output_type": "display_data"
    }
   ],
   "source": [
    "zoom_loss_graph(history, start=600)"
   ]
  },
  {
   "cell_type": "markdown",
   "metadata": {},
   "source": [
    "`Pelo menos aumentando-se o número de épocas a perda (loss) de validação fica um pouco maior que a de treinamento. O problema é que tanto loss, quanto val_loss continuam caindo. Talvez seja necessário diminuir o Learning-Rate, ou mudar o optimizador. Tentemos direto com o Adam que é o melhor, mas no modelo com um unico Nó na camada oculta.`"
   ]
  },
  {
   "cell_type": "markdown",
   "metadata": {},
   "source": [
    "### Testar com o optimizer 'Adam' "
   ]
  },
  {
   "cell_type": "code",
   "execution_count": 107,
   "metadata": {
    "ExecuteTime": {
     "end_time": "2020-12-01T19:32:25.569400Z",
     "start_time": "2020-12-01T19:32:25.566726Z"
    }
   },
   "outputs": [],
   "source": [
    "EPOCHS = 200"
   ]
  },
  {
   "cell_type": "code",
   "execution_count": 108,
   "metadata": {
    "ExecuteTime": {
     "end_time": "2020-12-01T19:32:26.784113Z",
     "start_time": "2020-12-01T19:32:26.750705Z"
    }
   },
   "outputs": [
    {
     "name": "stdout",
     "output_type": "stream",
     "text": [
      "Model: \"sequential_10\"\n",
      "_________________________________________________________________\n",
      "Layer (type)                 Output Shape              Param #   \n",
      "=================================================================\n",
      "dense_26 (Dense)             (None, 128)               15488     \n",
      "_________________________________________________________________\n",
      "dense_27 (Dense)             (None, 1)                 129       \n",
      "_________________________________________________________________\n",
      "dense_28 (Dense)             (None, 5)                 10        \n",
      "=================================================================\n",
      "Total params: 15,627\n",
      "Trainable params: 15,627\n",
      "Non-trainable params: 0\n",
      "_________________________________________________________________\n"
     ]
    }
   ],
   "source": [
    "model = Sequential([\n",
    "    Dense(128, input_shape=input_shape, activation=ACTIVATION_FN),\n",
    "    Dense(1, input_shape=input_shape, activation=ACTIVATION_FN),\n",
    "    Dense(len(attack_values), activation='softmax'), ])\n",
    "\n",
    "model.compile(optimizer='adam',\n",
    "              loss='categorical_crossentropy',\n",
    "              metrics=['accuracy'])\n",
    "model.summary()"
   ]
  },
  {
   "cell_type": "code",
   "execution_count": 109,
   "metadata": {
    "ExecuteTime": {
     "end_time": "2020-12-01T19:35:09.599392Z",
     "start_time": "2020-12-01T19:32:27.819271Z"
    }
   },
   "outputs": [
    {
     "name": "stdout",
     "output_type": "stream",
     "text": [
      "Tempo de treinamento: 162s\n"
     ]
    }
   ],
   "source": [
    "start_time = time.time()\n",
    "\n",
    "history = model.fit(x=train_samples,\n",
    "                    y=train_labels,\n",
    "                    batch_size=BATCH_SIZE,\n",
    "                    epochs=EPOCHS,\n",
    "                    verbose=VERBOSE,\n",
    "                    validation_data=(test_samples, test_labels))\n",
    "end_time = time.time()\n",
    "print(\"Tempo de treinamento: {}s\".format(round(end_time-start_time)))"
   ]
  },
  {
   "cell_type": "code",
   "execution_count": 110,
   "metadata": {
    "ExecuteTime": {
     "end_time": "2020-12-01T19:35:12.453949Z",
     "start_time": "2020-12-01T19:35:10.210496Z"
    }
   },
   "outputs": [
    {
     "name": "stdout",
     "output_type": "stream",
     "text": [
      "3088/3088 [==============================] - 2s 561us/step - loss: 0.0075 - accuracy: 0.9992\n"
     ]
    },
    {
     "data": {
      "image/png": "[encoded data removed]",
      "text/plain": [
       "<Figure size 720x360 with 1 Axes>"
      ]
     },
     "metadata": {
      "needs_background": "light"
     },
     "output_type": "display_data"
    },
    {
     "data": {
      "image/png": "[encoded data removed]",
      "text/plain": [
       "<Figure size 720x360 with 1 Axes>"
      ]
     },
     "metadata": {
      "needs_background": "light"
     },
     "output_type": "display_data"
    }
   ],
   "source": [
    "# Teste do modelo\n",
    "h2 = model.evaluate(\n",
    "    x=test_samples,\n",
    "    y=test_labels,\n",
    "    verbose=1,\n",
    ")\n",
    "\n",
    "plot_train_val_accuracy_loss(history)"
   ]
  },
  {
   "cell_type": "code",
   "execution_count": 115,
   "metadata": {
    "ExecuteTime": {
     "end_time": "2020-12-01T19:38:07.383806Z",
     "start_time": "2020-12-01T19:38:06.929751Z"
    }
   },
   "outputs": [
    {
     "name": "stdout",
     "output_type": "stream",
     "text": [
      "Minimum Validation Loss: 0.0060\n"
     ]
    },
    {
     "data": {
      "image/png": "[encoded data removed]",
      "text/plain": [
       "<Figure size 432x288 with 1 Axes>"
      ]
     },
     "metadata": {
      "needs_background": "light"
     },
     "output_type": "display_data"
    }
   ],
   "source": [
    "# Abrir um pouco o gráfico\n",
    "zoom_loss_graph(history, start=50)"
   ]
  },
  {
   "cell_type": "markdown",
   "metadata": {},
   "source": [
    "`Com apenas 1 nó na camada intermediária e trocando o otimizador para 'adam', se observa que o erro de validação é ligeiramente maior que o treinamento (o que é bom). Parece também que a perda depois da epoca 100 começa a aumantar, o que sugere um overfitting. Deve-se treinar o modelo novamente com menos épocas ou utilizando-se \"early stopping\". `"
   ]
  },
  {
   "cell_type": "markdown",
   "metadata": {},
   "source": [
    "### Treinar com menos epocas"
   ]
  },
  {
   "cell_type": "code",
   "execution_count": 116,
   "metadata": {
    "ExecuteTime": {
     "end_time": "2020-12-01T19:43:18.745979Z",
     "start_time": "2020-12-01T19:43:18.742828Z"
    }
   },
   "outputs": [],
   "source": [
    "early_stopping = callbacks.EarlyStopping(\n",
    "    min_delta=0.001, # minimium amount of change to count as an improvement\n",
    "    patience=20, # how many epochs to wait before stopping\n",
    "    restore_best_weights=True,\n",
    ")"
   ]
  },
  {
   "cell_type": "code",
   "execution_count": 117,
   "metadata": {
    "ExecuteTime": {
     "end_time": "2020-12-01T19:43:48.532858Z",
     "start_time": "2020-12-01T19:43:48.530289Z"
    }
   },
   "outputs": [],
   "source": [
    "# valor máximo para epocas. Não deveria ser atingido\n",
    "EPOCHS = 200"
   ]
  },
  {
   "cell_type": "code",
   "execution_count": 118,
   "metadata": {
    "ExecuteTime": {
     "end_time": "2020-12-01T19:44:26.214753Z",
     "start_time": "2020-12-01T19:44:26.181566Z"
    }
   },
   "outputs": [
    {
     "name": "stdout",
     "output_type": "stream",
     "text": [
      "Model: \"sequential_11\"\n",
      "_________________________________________________________________\n",
      "Layer (type)                 Output Shape              Param #   \n",
      "=================================================================\n",
      "dense_29 (Dense)             (None, 128)               15488     \n",
      "_________________________________________________________________\n",
      "dense_30 (Dense)             (None, 1)                 129       \n",
      "_________________________________________________________________\n",
      "dense_31 (Dense)             (None, 5)                 10        \n",
      "=================================================================\n",
      "Total params: 15,627\n",
      "Trainable params: 15,627\n",
      "Non-trainable params: 0\n",
      "_________________________________________________________________\n"
     ]
    }
   ],
   "source": [
    "model = Sequential([\n",
    "    Dense(128, input_shape=input_shape, activation=ACTIVATION_FN),\n",
    "    Dense(1, input_shape=input_shape, activation=ACTIVATION_FN),\n",
    "    Dense(len(attack_values), activation='softmax'), ])\n",
    "\n",
    "model.compile(optimizer='adam',\n",
    "              loss='categorical_crossentropy',\n",
    "              metrics=['accuracy'])\n",
    "model.summary()"
   ]
  },
  {
   "cell_type": "code",
   "execution_count": 120,
   "metadata": {
    "ExecuteTime": {
     "end_time": "2020-12-01T19:47:17.983031Z",
     "start_time": "2020-12-01T19:44:45.230247Z"
    }
   },
   "outputs": [
    {
     "name": "stdout",
     "output_type": "stream",
     "text": [
      "Tempo de treinamento: 153s\n"
     ]
    }
   ],
   "source": [
    "start_time = time.time()\n",
    "\n",
    "history = model.fit(x=train_samples,\n",
    "                    y=train_labels,\n",
    "                    batch_size=BATCH_SIZE,\n",
    "                    epochs=EPOCHS,\n",
    "                    verbose=VERBOSE,\n",
    "                    validation_data=(test_samples, test_labels))\n",
    "end_time = time.time()\n",
    "print(\"Tempo de treinamento: {}s\".format(round(end_time-start_time)))"
   ]
  },
  {
   "cell_type": "code",
   "execution_count": 121,
   "metadata": {
    "ExecuteTime": {
     "end_time": "2020-12-01T19:47:20.502134Z",
     "start_time": "2020-12-01T19:47:18.535795Z"
    }
   },
   "outputs": [
    {
     "name": "stdout",
     "output_type": "stream",
     "text": [
      "3088/3088 [==============================] - 1s 485us/step - loss: 0.0053 - accuracy: 0.9993\n"
     ]
    },
    {
     "data": {
      "image/png": "[encoded data removed]",
      "text/plain": [
       "<Figure size 720x360 with 1 Axes>"
      ]
     },
     "metadata": {
      "needs_background": "light"
     },
     "output_type": "display_data"
    },
    {
     "data": {
      "image/png": "[encoded data removed]",
      "text/plain": [
       "<Figure size 720x360 with 1 Axes>"
      ]
     },
     "metadata": {
      "needs_background": "light"
     },
     "output_type": "display_data"
    }
   ],
   "source": [
    "# Teste do modelo\n",
    "h2 = model.evaluate(\n",
    "    x=test_samples,\n",
    "    y=test_labels,\n",
    "    verbose=1,\n",
    ")\n",
    "\n",
    "plot_train_val_accuracy_loss(history)"
   ]
  },
  {
   "cell_type": "code",
   "execution_count": 124,
   "metadata": {
    "ExecuteTime": {
     "end_time": "2020-12-01T19:53:34.860988Z",
     "start_time": "2020-12-01T19:53:34.696257Z"
    }
   },
   "outputs": [
    {
     "name": "stdout",
     "output_type": "stream",
     "text": [
      "Minimum Validation Loss: 0.0048\n"
     ]
    },
    {
     "data": {
      "image/png": "[encoded data removed]",
      "text/plain": [
       "<Figure size 432x288 with 1 Axes>"
      ]
     },
     "metadata": {
      "needs_background": "light"
     },
     "output_type": "display_data"
    }
   ],
   "source": [
    "# Abrir um pouco o gráfico\n",
    "zoom_loss_graph(history, start=10)"
   ]
  },
  {
   "cell_type": "markdown",
   "metadata": {
    "ExecuteTime": {
     "end_time": "2020-12-01T19:44:37.670864Z",
     "start_time": "2020-12-01T19:44:37.665113Z"
    }
   },
   "source": [
    "`Com apenas 1 nó na camada intermediária e trocando o otimizador para 'adam', se observa que o erro de validação é ligeiramente maior que o treinamento (o que é bom). Como o modelo foi novamante inicializado com valores randomicos, desta vez observe que a perda não sobe a partir de 100 épocas, logo o \"early stopping\" não chegou a atuar. Mas este modelo parece muito bom. Vamos parar por aqui. `"
   ]
  },
  {
   "cell_type": "markdown",
   "metadata": {},
   "source": [
    "## Salvar modelo"
   ]
  },
  {
   "cell_type": "code",
   "execution_count": 125,
   "metadata": {
    "ExecuteTime": {
     "end_time": "2020-12-01T19:55:57.937866Z",
     "start_time": "2020-12-01T19:55:57.880388Z"
    }
   },
   "outputs": [],
   "source": [
    "model.save('model.h5')"
   ]
  },
  {
   "attachments": {
    "model.png": {
     "image/png": "[encoded data removed]"
    }
   },
   "cell_type": "markdown",
   "metadata": {
    "ExecuteTime": {
     "end_time": "2020-12-01T20:03:42.929575Z",
     "start_time": "2020-12-01T20:03:42.925921Z"
    }
   },
   "source": [
    "![model.png](attachment:model.png)"
   ]
  },
  {
   "cell_type": "code",
   "execution_count": null,
   "metadata": {},
   "outputs": [],
   "source": []
  }
 ],
 "metadata": {
  "hide_input": false,
  "kernelspec": {
   "display_name": "Tf2_Py37",
   "language": "python",
   "name": "tf2_py37"
  },
  "language_info": {
   "codemirror_mode": {
    "name": "ipython",
    "version": 3
   },
   "file_extension": ".py",
   "mimetype": "text/x-python",
   "name": "python",
   "nbconvert_exporter": "python",
   "pygments_lexer": "ipython3",
   "version": "3.7.7"
  },
  "nbTranslate": {
   "displayLangs": [
    "*"
   ],
   "hotkey": "alt-t",
   "langInMainMenu": true,
   "sourceLang": "en",
   "targetLang": "fr",
   "useGoogleTranslate": true
  },
  "toc": {
   "base_numbering": 1,
   "nav_menu": {},
   "number_sections": true,
   "sideBar": true,
   "skip_h1_title": true,
   "title_cell": "Table of Contents",
   "title_sidebar": "Contents",
   "toc_cell": false,
   "toc_position": {},
   "toc_section_display": true,
   "toc_window_display": true
  },
  "varInspector": {
   "cols": {
    "lenName": 16,
    "lenType": 16,
    "lenVar": 40
   },
   "kernels_config": {
    "python": {
     "delete_cmd_postfix": "",
     "delete_cmd_prefix": "del ",
     "library": "var_list.py",
     "varRefreshCmd": "print(var_dic_list())"
    },
    "r": {
     "delete_cmd_postfix": ") ",
     "delete_cmd_prefix": "rm(",
     "library": "var_list.r",
     "varRefreshCmd": "cat(var_dic_list()) "
    }
   },
   "types_to_exclude": [
    "module",
    "function",
    "builtin_function_or_method",
    "instance",
    "_Feature"
   ],
   "window_display": false
  }
 },
 "nbformat": 4,
 "nbformat_minor": 4
}
